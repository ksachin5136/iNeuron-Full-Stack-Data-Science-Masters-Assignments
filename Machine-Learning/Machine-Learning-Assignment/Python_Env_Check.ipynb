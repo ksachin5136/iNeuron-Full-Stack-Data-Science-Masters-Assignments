{
 "cells": [
  {
   "cell_type": "code",
   "execution_count": 10,
   "id": "8974a08e-410c-4d15-ae17-5cb25b32bbb5",
   "metadata": {},
   "outputs": [],
   "source": [
    "import sys"
   ]
  },
  {
   "cell_type": "code",
   "execution_count": 11,
   "id": "b75c3d15-50e9-42e2-ba7b-0528ace6d76b",
   "metadata": {},
   "outputs": [
    {
     "name": "stdout",
     "output_type": "stream",
     "text": [
      "**************************************************************************************************************\n",
      "This Code using:\n",
      "Python Version                   = 3.10.6 | packaged by conda-forge | (main, Aug 22 2022, 20:35:26) [GCC 10.4.0]\n",
      "version_info                     = sys.version_info(major=3, minor=10, micro=6, releaselevel='final', serial=0)\n",
      "Python Interpreter/base_prefix   = /opt/conda\n",
      "Python executable  i.e. .exe     = /opt/conda/bin/python\n",
      "**************************************************************************************************************\n"
     ]
    }
   ],
   "source": [
    "print(\"**************************************************************************************************************\")\n",
    "print(\"This Code using:\")\n",
    "#print(\"This Code using Apache Spark Version =\", sc.version)\n",
    "print(\"Python Version                   =\", sys.version)\n",
    "print(\"version_info                     =\", sys.version_info)\n",
    "print(\"Python Interpreter/base_prefix   =\", sys.base_prefix)\n",
    "print(\"Python executable  i.e. .exe     =\", sys.executable)\n",
    "print(\"**************************************************************************************************************\")"
   ]
  },
  {
   "cell_type": "code",
   "execution_count": 12,
   "id": "eaeb9ae3-42af-4da7-a579-7e34e0028a40",
   "metadata": {},
   "outputs": [
    {
     "name": "stdout",
     "output_type": "stream",
     "text": [
      "Python version: ['3.10.6 | packaged by conda-forge | (main, Aug 22 2022, 20:35:26) [GCC 10.4.0]']\n",
      "dist: N/A\n",
      "linux_distribution: N/A\n",
      "system: Linux\n",
      "machine: x86_64\n",
      "platform: Linux-5.15.0-1026-aws-x86_64-with-glibc2.35\n",
      "uname: uname_result(system='Linux', node='91f6c94e8952', release='5.15.0-1026-aws', version='#30-Ubuntu SMP Wed Nov 23 14:15:21 UTC 2022', machine='x86_64')\n",
      "version: #30-Ubuntu SMP Wed Nov 23 14:15:21 UTC 2022\n",
      "mac_ver: ('', ('', '', ''), '')\n",
      "\n"
     ]
    }
   ],
   "source": [
    "import platform\n",
    "import sys\n",
    "\n",
    "def linux_distribution():\n",
    "  try:\n",
    "    return platform.linux_distribution()\n",
    "  except:\n",
    "    return \"N/A\"\n",
    "\n",
    "def dist():\n",
    "  try:\n",
    "    return platform.dist()\n",
    "  except:\n",
    "    return \"N/A\"\n",
    "\n",
    "print(\"\"\"Python version: %s\n",
    "dist: %s\n",
    "linux_distribution: %s\n",
    "system: %s\n",
    "machine: %s\n",
    "platform: %s\n",
    "uname: %s\n",
    "version: %s\n",
    "mac_ver: %s\n",
    "\"\"\" % (\n",
    "sys.version.split('\\n'),\n",
    "str(dist()),\n",
    "linux_distribution(),\n",
    "platform.system(),\n",
    "platform.machine(),\n",
    "platform.platform(),\n",
    "platform.uname(),\n",
    "platform.version(),\n",
    "platform.mac_ver(),\n",
    "))"
   ]
  },
  {
   "cell_type": "code",
   "execution_count": 13,
   "id": "76ef8edc-acc2-4063-81d9-d8de0acd9c91",
   "metadata": {},
   "outputs": [
    {
     "data": {
      "text/plain": [
       "'/home/jovyan/work'"
      ]
     },
     "execution_count": 13,
     "metadata": {},
     "output_type": "execute_result"
    }
   ],
   "source": [
    "pwd\n"
   ]
  },
  {
   "cell_type": "code",
   "execution_count": 14,
   "id": "65e96dcc-6b27-4883-adc5-19f04bd096ee",
   "metadata": {},
   "outputs": [
    {
     "name": "stdout",
     "output_type": "stream",
     "text": [
      "posix\n"
     ]
    }
   ],
   "source": [
    "import os\n",
    "print(os.name)"
   ]
  },
  {
   "cell_type": "code",
   "execution_count": null,
   "id": "bed8170c-f23e-4b8b-a0cc-49e78be0bf01",
   "metadata": {},
   "outputs": [],
   "source": []
  },
  {
   "cell_type": "code",
   "execution_count": null,
   "id": "80a35d99-5aa2-4069-8337-57453a65d75e",
   "metadata": {},
   "outputs": [],
   "source": []
  }
 ],
 "metadata": {
  "kernelspec": {
   "display_name": "Python 3 (ipykernel)",
   "language": "python",
   "name": "python3"
  },
  "language_info": {
   "codemirror_mode": {
    "name": "ipython",
    "version": 3
   },
   "file_extension": ".py",
   "mimetype": "text/x-python",
   "name": "python",
   "nbconvert_exporter": "python",
   "pygments_lexer": "ipython3",
   "version": "3.10.6"
  }
 },
 "nbformat": 4,
 "nbformat_minor": 5
}
