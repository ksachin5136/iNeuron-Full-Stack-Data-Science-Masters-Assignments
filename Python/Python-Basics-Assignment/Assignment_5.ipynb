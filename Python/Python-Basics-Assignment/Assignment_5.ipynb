{
 "cells": [
  {
   "cell_type": "markdown",
   "id": "63125a13",
   "metadata": {},
   "source": [
    "__1. What does an empty dictionary's code look like?__\n",
    "\n",
    "Ans_1: An empty dictionary is often represented by two empty curly brackets\n",
    "\n",
    "    d = {} \n",
    "    OR\n",
    "    Use dict constructor  d = dict()\n",
    "    \n",
    "Example:"
   ]
  },
  {
   "cell_type": "code",
   "execution_count": 8,
   "id": "39df0e26",
   "metadata": {},
   "outputs": [
    {
     "name": "stdout",
     "output_type": "stream",
     "text": [
      "<class 'dict'> {}\n",
      "0\n"
     ]
    }
   ],
   "source": [
    "# create a empty dictionary\n",
    "empty_dict = dict()\n",
    "print(type(empty_dict), empty_dict)\n",
    "print(len(empty_dict))"
   ]
  },
  {
   "cell_type": "markdown",
   "id": "9d2c5b21",
   "metadata": {},
   "source": [
    "__2. What is the value of a dictionary value with the key 'foo' and the value 42?__\n",
    "\n",
    "Ans_2: Dictionary value will be 42 for dictionary where key is 'foo' and value 42.\n",
    "\n",
    "Example;"
   ]
  },
  {
   "cell_type": "code",
   "execution_count": 9,
   "id": "df6bbcac",
   "metadata": {},
   "outputs": [
    {
     "data": {
      "text/plain": [
       "dict_values([42])"
      ]
     },
     "execution_count": 9,
     "metadata": {},
     "output_type": "execute_result"
    }
   ],
   "source": [
    "dict1 = {\"foo\": 42}\n",
    "dict1.values()"
   ]
  },
  {
   "cell_type": "markdown",
   "id": "1c6eaaaa",
   "metadata": {},
   "source": [
    "__3. What is the most significant distinction between a dictionary and a list?__\n",
    "\n",
    "Ans_3: The most significant distinction between a dictionary and list is;  \n",
    "\n",
    "List can have Duplicate items But Dictionary can not have Items with Duplicate keys (__yes! values can be duplicate but not keys__)\n",
    "\n",
    "Examples;"
   ]
  },
  {
   "cell_type": "code",
   "execution_count": 10,
   "id": "75dd0b3f",
   "metadata": {},
   "outputs": [
    {
     "name": "stdout",
     "output_type": "stream",
     "text": [
      "<class 'dict'> {'brand': 'Ford', 'model': 'Mustang', 'year': 2022, 'expYear': 2022, 'reportYear': 2022}\n"
     ]
    }
   ],
   "source": [
    "# Example\n",
    "# dict1 is having 'year' as key two time with different value,  as per manual last one will be considered.\n",
    "\n",
    "dict1 = {\n",
    "    \"brand\": \"Ford\",\n",
    "    \"model\": \"Mustang\",\n",
    "    \"year\": 1964,\n",
    "    \"year\": 2022,\n",
    "    \"expYear\": 2022,\n",
    "    \"reportYear\": 2022\n",
    "}\n",
    "print(type(dict1), dict1)"
   ]
  },
  {
   "cell_type": "code",
   "execution_count": 11,
   "id": "22f33be7",
   "metadata": {},
   "outputs": [
    {
     "name": "stdout",
     "output_type": "stream",
     "text": [
      "<class 'list'> ['Ford', 'Mustang', 1964, 1964]\n"
     ]
    }
   ],
   "source": [
    "# Example\n",
    "List1 = [\"Ford\", \"Mustang\", 1964, 1964]  # here in list1 1964 is duplicate\n",
    "print(type(List1), List1)"
   ]
  },
  {
   "cell_type": "markdown",
   "id": "d153107c",
   "metadata": {},
   "source": [
    "__4. What happens if you try to access spam['foo'] if spam is {'bar': 100}?__\n",
    "\n",
    "Ans_4 : It will fail with `KeyError: 'foo'` because key 'foo' as key is not present in the dictionary . \n",
    "\n",
    "Example;"
   ]
  },
  {
   "cell_type": "code",
   "execution_count": 12,
   "id": "a1e7f2fc",
   "metadata": {},
   "outputs": [
    {
     "name": "stdout",
     "output_type": "stream",
     "text": [
      "<class 'dict'> {'bar': 100}\n"
     ]
    },
    {
     "ename": "KeyError",
     "evalue": "'foo'",
     "output_type": "error",
     "traceback": [
      "\u001b[1;31m---------------------------------------------------------------------------\u001b[0m",
      "\u001b[1;31mKeyError\u001b[0m                                  Traceback (most recent call last)",
      "Cell \u001b[1;32mIn[12], line 3\u001b[0m\n\u001b[0;32m      1\u001b[0m spam \u001b[38;5;241m=\u001b[39m {\u001b[38;5;124m'\u001b[39m\u001b[38;5;124mbar\u001b[39m\u001b[38;5;124m'\u001b[39m: \u001b[38;5;241m100\u001b[39m}\n\u001b[0;32m      2\u001b[0m \u001b[38;5;28mprint\u001b[39m(\u001b[38;5;28mtype\u001b[39m(spam), spam)\n\u001b[1;32m----> 3\u001b[0m \u001b[43mspam\u001b[49m\u001b[43m[\u001b[49m\u001b[38;5;124;43m'\u001b[39;49m\u001b[38;5;124;43mfoo\u001b[39;49m\u001b[38;5;124;43m'\u001b[39;49m\u001b[43m]\u001b[49m\n",
      "\u001b[1;31mKeyError\u001b[0m: 'foo'"
     ]
    }
   ],
   "source": [
    "spam = {'bar': 100}\n",
    "print(type(spam), spam)\n",
    "spam['foo']"
   ]
  },
  {
   "cell_type": "markdown",
   "id": "d024bfad",
   "metadata": {},
   "source": [
    "__5. If a dictionary is stored in spam, what is the difference between the expressions 'cat' in spam and 'cat' in spam.keys()?__\n",
    "\n",
    "Ans_5:\n",
    "\n",
    "    'cat' in spam\n",
    "    \n",
    "    'cat' in spam.keys()\n",
    "    \n",
    "\n",
    "In terms of functionality, both expressions are equivalent and will provide the same result __True__\n",
    "\n",
    "However, The difference between the two expressions lies in the way they access the dictionary's keys. \n",
    "\n",
    "The first expression, `'cat' in spam` directly checks the dictionary itself for the presence of the key as 'cat'. \n",
    "\n",
    "The second expression, `'cat' in spam.keys()` first retrieves a view of the dictionary's keys and then checks if the key 'cat' is present in that view. it involves an additional method call, which may have a slight performance impact for large dictionaries.\n",
    "\n",
    "check below Examples;"
   ]
  },
  {
   "cell_type": "code",
   "execution_count": 13,
   "id": "e702fae1",
   "metadata": {},
   "outputs": [
    {
     "name": "stdout",
     "output_type": "stream",
     "text": [
      "<class 'dict'> {'cat': 12345}\n"
     ]
    },
    {
     "data": {
      "text/plain": [
       "True"
      ]
     },
     "execution_count": 13,
     "metadata": {},
     "output_type": "execute_result"
    }
   ],
   "source": [
    "spam = {'cat': 12345}\n",
    "print(type(spam), spam)\n",
    "'cat' in spam"
   ]
  },
  {
   "cell_type": "code",
   "execution_count": 14,
   "id": "6b1a828e",
   "metadata": {},
   "outputs": [
    {
     "name": "stdout",
     "output_type": "stream",
     "text": [
      "<class 'dict_keys'> dict_keys(['cat'])\n"
     ]
    },
    {
     "data": {
      "text/plain": [
       "True"
      ]
     },
     "execution_count": 14,
     "metadata": {},
     "output_type": "execute_result"
    }
   ],
   "source": [
    "spam = {'cat': 12345}\n",
    "print(type(spam.keys()), spam.keys())\n",
    "'cat' in spam.keys()"
   ]
  },
  {
   "cell_type": "markdown",
   "id": "a2bdaa65",
   "metadata": {},
   "source": [
    "__6. If a dictionary is stored in spam, what is the difference between the expressions 'cat' in spam and 'cat' in spam.values()?__\n",
    "\n",
    "Ans_6:\n",
    "\n",
    "    'cat' in spam\n",
    "    'cat' in spam.values()\n",
    "\n",
    "The first expression, `'cat' in spam` directly checks the dictionary itself for the presence of the key with value 'cat'.\n",
    "\n",
    "The second expression, `'cat' in spam.values()`, first retrieves a view of the dictionary's values  and then checks if the 'cat' as value is present in that view.\n",
    "\n",
    "Example;"
   ]
  },
  {
   "cell_type": "code",
   "execution_count": 15,
   "id": "c3774fd2",
   "metadata": {},
   "outputs": [
    {
     "name": "stdout",
     "output_type": "stream",
     "text": [
      "<class 'dict'> {'cat': 12345}\n"
     ]
    },
    {
     "data": {
      "text/plain": [
       "True"
      ]
     },
     "execution_count": 15,
     "metadata": {},
     "output_type": "execute_result"
    }
   ],
   "source": [
    "spam = {'cat': 12345}\n",
    "print(type(spam), spam)\n",
    "'cat' in spam"
   ]
  },
  {
   "cell_type": "code",
   "execution_count": 16,
   "id": "4a78f837",
   "metadata": {},
   "outputs": [
    {
     "name": "stdout",
     "output_type": "stream",
     "text": [
      "<class 'dict_values'> dict_values([12345])\n"
     ]
    },
    {
     "data": {
      "text/plain": [
       "False"
      ]
     },
     "execution_count": 16,
     "metadata": {},
     "output_type": "execute_result"
    }
   ],
   "source": [
    "spam = {'cat': 12345}\n",
    "print(type(spam.values()), spam.values())\n",
    "'cat' in spam.values()"
   ]
  },
  {
   "cell_type": "markdown",
   "id": "2d02f618",
   "metadata": {},
   "source": [
    "__7. What is a shortcut for the following code?__\n",
    "\n",
    "    if 'color' not in spam:\n",
    "        spam['color'] = 'black'\n",
    "        \n",
    "Ans_7: `spam.setdefault(\"color\", \"black\")`\n",
    "\n",
    "Example;"
   ]
  },
  {
   "cell_type": "code",
   "execution_count": 17,
   "id": "7802ef33",
   "metadata": {},
   "outputs": [
    {
     "name": "stdout",
     "output_type": "stream",
     "text": [
      "<class 'dict'> {'cat': 12345}\n",
      "<class 'dict'> {'cat': 12345, 'color': 'black'}\n"
     ]
    }
   ],
   "source": [
    "spam = {'cat': 12345}\n",
    "print(type(spam), spam)\n",
    "\n",
    "if 'color' not in spam:\n",
    "    spam['color'] = 'black'\n",
    "\n",
    "print(type(spam), spam)"
   ]
  },
  {
   "cell_type": "markdown",
   "id": "03e22e1c",
   "metadata": {},
   "source": [
    "__use setdefault() Method__"
   ]
  },
  {
   "cell_type": "code",
   "execution_count": 18,
   "id": "94b14504",
   "metadata": {},
   "outputs": [
    {
     "name": "stdout",
     "output_type": "stream",
     "text": [
      "<class 'dict'> {'cat': 12345}\n",
      "<class 'dict'> {'cat': 12345, 'color': 'black'}\n"
     ]
    }
   ],
   "source": [
    "spam = {'cat': 12345}\n",
    "print(type(spam), spam)\n",
    "\n",
    "spam.setdefault(\"color\", \"black\") #  add \"color\" if not exist and get the vale of \"color\" if exist \n",
    "\n",
    "print(type(spam), spam)"
   ]
  },
  {
   "cell_type": "markdown",
   "id": "9bec63b7",
   "metadata": {},
   "source": [
    "__8. How do you \"pretty print\" dictionary values using which module and function?__"
   ]
  },
  {
   "cell_type": "markdown",
   "id": "d111e558",
   "metadata": {},
   "source": [
    "Ans_8: We can pretty print a dictionary using three functions;\n",
    "\n",
    "1. by using pprint() function of pprint module   __Note:pprint() function doesnot prettify nested dictionaries__\n",
    "2. by using dumps() method of json module\n",
    "3. by using dumps() method of yaml module\n",
    "\n",
    "Examples;"
   ]
  },
  {
   "cell_type": "code",
   "execution_count": 19,
   "id": "bc38c6f6",
   "metadata": {},
   "outputs": [
    {
     "name": "stdout",
     "output_type": "stream",
     "text": [
      "Printing using print() function:\n",
      " [{'Name': 'John', 'Age': '23', 'Residence': {'Country': 'USA', 'City': 'New York'}}, {'Name': 'Jose', 'Age': '44', 'Residence': {'Country': 'Spain', 'City': 'Madrid'}}, {'Name': 'Anne', 'Age': '29', 'Residence': {'Country': 'UK', 'City': 'England'}}, {'Name': 'Lee', 'Age': '35', 'Residence': {'Country': 'Japan', 'City': 'Osaka'}}]\n",
      "####################################################################################################\n",
      "Printing using pprint() funciton\n",
      "[{'Age': '23',\n",
      "  'Name': 'John',\n",
      "  'Residence': {'City': 'New York', 'Country': 'USA'}},\n",
      " {'Age': '44',\n",
      "  'Name': 'Jose',\n",
      "  'Residence': {'City': 'Madrid', 'Country': 'Spain'}},\n",
      " {'Age': '29',\n",
      "  'Name': 'Anne',\n",
      "  'Residence': {'City': 'England', 'Country': 'UK'}},\n",
      " {'Age': '35',\n",
      "  'Name': 'Lee',\n",
      "  'Residence': {'City': 'Osaka', 'Country': 'Japan'}}]\n",
      "####################################################################################################\n",
      "Printing usingjson.dumps(mydict, indent=4):\n",
      " [\n",
      "    {\n",
      "        \"Name\": \"John\",\n",
      "        \"Age\": \"23\",\n",
      "        \"Residence\": {\n",
      "            \"Country\": \"USA\",\n",
      "            \"City\": \"New York\"\n",
      "        }\n",
      "    },\n",
      "    {\n",
      "        \"Name\": \"Jose\",\n",
      "        \"Age\": \"44\",\n",
      "        \"Residence\": {\n",
      "            \"Country\": \"Spain\",\n",
      "            \"City\": \"Madrid\"\n",
      "        }\n",
      "    },\n",
      "    {\n",
      "        \"Name\": \"Anne\",\n",
      "        \"Age\": \"29\",\n",
      "        \"Residence\": {\n",
      "            \"Country\": \"UK\",\n",
      "            \"City\": \"England\"\n",
      "        }\n",
      "    },\n",
      "    {\n",
      "        \"Name\": \"Lee\",\n",
      "        \"Age\": \"35\",\n",
      "        \"Residence\": {\n",
      "            \"Country\": \"Japan\",\n",
      "            \"City\": \"Osaka\"\n",
      "        }\n",
      "    }\n",
      "]\n",
      "####################################################################################################\n",
      "Printing using yaml.dump(mydict):\n",
      " - Age: '23'\n",
      "  Name: John\n",
      "  Residence:\n",
      "    City: New York\n",
      "    Country: USA\n",
      "- Age: '44'\n",
      "  Name: Jose\n",
      "  Residence:\n",
      "    City: Madrid\n",
      "    Country: Spain\n",
      "- Age: '29'\n",
      "  Name: Anne\n",
      "  Residence:\n",
      "    City: England\n",
      "    Country: UK\n",
      "- Age: '35'\n",
      "  Name: Lee\n",
      "  Residence:\n",
      "    City: Osaka\n",
      "    Country: Japan\n",
      "\n"
     ]
    }
   ],
   "source": [
    "mydict = [\n",
    "  {'Name': 'John', 'Age': '23', 'Residence': {'Country':'USA', 'City': 'New York'}},\n",
    "  {'Name': 'Jose', 'Age': '44', 'Residence': {'Country':'Spain', 'City': 'Madrid'}},\n",
    "  {'Name': 'Anne', 'Age': '29', 'Residence': {'Country':'UK', 'City': 'England'}},\n",
    "  {'Name': 'Lee', 'Age': '35', 'Residence': {'Country':'Japan', 'City': 'Osaka'}}\n",
    "]\n",
    "\n",
    "print('Printing using print() function:\\n',mydict)\n",
    "print('#'*100)\n",
    "\n",
    "import pprint\n",
    "print('Printing using pprint() funciton')\n",
    "pprint.pprint(mydict)\n",
    "\n",
    "print('#'*100)\n",
    "import json\n",
    "dump = json.dumps(mydict, indent=4)\n",
    "print('Printing usingjson.dumps(mydict, indent=4):\\n', dump)\n",
    "print('#'*100)\n",
    "import yaml\n",
    "dump = yaml.dump(mydict)\n",
    "print('Printing using yaml.dump(mydict):\\n', dump)"
   ]
  }
 ],
 "metadata": {
  "kernelspec": {
   "display_name": "Python 3 (ipykernel)",
   "language": "python",
   "name": "python3"
  },
  "language_info": {
   "codemirror_mode": {
    "name": "ipython",
    "version": 3
   },
   "file_extension": ".py",
   "mimetype": "text/x-python",
   "name": "python",
   "nbconvert_exporter": "python",
   "pygments_lexer": "ipython3",
   "version": "3.10.11"
  },
  "toc": {
   "base_numbering": 1,
   "nav_menu": {},
   "number_sections": true,
   "sideBar": true,
   "skip_h1_title": false,
   "title_cell": "Table of Contents",
   "title_sidebar": "Contents",
   "toc_cell": false,
   "toc_position": {
    "height": "calc(100% - 180px)",
    "left": "10px",
    "top": "150px",
    "width": "341.333px"
   },
   "toc_section_display": true,
   "toc_window_display": false
  }
 },
 "nbformat": 4,
 "nbformat_minor": 5
}
