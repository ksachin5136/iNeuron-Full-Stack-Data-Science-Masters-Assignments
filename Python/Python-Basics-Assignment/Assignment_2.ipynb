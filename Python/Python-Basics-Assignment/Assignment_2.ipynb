{
 "cells": [
  {
   "cell_type": "markdown",
   "id": "8cd4eec7",
   "metadata": {},
   "source": [
    "__1.What are the two values of the Boolean data type? How do you write them?__\n",
    "\n",
    "Ans_1 : \n",
    "\n",
    "Two Boolean data type are \n",
    "1. True \n",
    "2. False\n",
    "\n"
   ]
  },
  {
   "cell_type": "code",
   "execution_count": 1,
   "id": "429f8ab0",
   "metadata": {},
   "outputs": [],
   "source": [
    "x = 5\n",
    "y = 4"
   ]
  },
  {
   "cell_type": "code",
   "execution_count": 2,
   "id": "d1fc3dfc",
   "metadata": {},
   "outputs": [
    {
     "name": "stdout",
     "output_type": "stream",
     "text": [
      "True\n",
      "<class 'bool'>\n"
     ]
    }
   ],
   "source": [
    "T = x > y\n",
    "T\n",
    "print(T)\n",
    "print(type(T))"
   ]
  },
  {
   "cell_type": "code",
   "execution_count": 3,
   "id": "f14e6624",
   "metadata": {},
   "outputs": [
    {
     "data": {
      "text/plain": [
       "bool"
      ]
     },
     "execution_count": 3,
     "metadata": {},
     "output_type": "execute_result"
    }
   ],
   "source": [
    "type(T)"
   ]
  },
  {
   "cell_type": "code",
   "execution_count": 4,
   "id": "b7169751",
   "metadata": {},
   "outputs": [
    {
     "name": "stdout",
     "output_type": "stream",
     "text": [
      "True\n",
      "<class 'bool'>\n"
     ]
    }
   ],
   "source": [
    "F = x > y\n",
    "print(F)\n",
    "print(type(F))"
   ]
  },
  {
   "cell_type": "code",
   "execution_count": 5,
   "id": "16ca0625",
   "metadata": {},
   "outputs": [
    {
     "data": {
      "text/plain": [
       "False"
      ]
     },
     "execution_count": 5,
     "metadata": {},
     "output_type": "execute_result"
    }
   ],
   "source": [
    "x==y"
   ]
  },
  {
   "cell_type": "markdown",
   "id": "1ee12ee9",
   "metadata": {},
   "source": [
    "__2. What are the three different types of Boolean operators?__\n",
    "\n",
    "Ans_2:\n",
    "\n",
    "Python has three Boolean operators , we call them as Logical operators as well. they are as below;\n",
    "\n",
    "1. and \n",
    "2. or  \n",
    "3. not\n",
    "\n",
    "        Operator   Description\t                     \t\t\t\t \n",
    "        and \t   Returns True if both statements are true\t\t\t \n",
    "        or\t       Returns True if one of the statements is true\t\t \n",
    "        not        Reverse the result, returns False if the result is true"
   ]
  },
  {
   "cell_type": "code",
   "execution_count": 6,
   "id": "82f20690",
   "metadata": {},
   "outputs": [
    {
     "name": "stdout",
     "output_type": "stream",
     "text": [
      "True\n"
     ]
    }
   ],
   "source": [
    "# and   - Returns True if both statements are true\n",
    "x = 8\n",
    "\n",
    "print(x > 4 and x < 9)"
   ]
  },
  {
   "cell_type": "code",
   "execution_count": 7,
   "id": "6ae91876",
   "metadata": {},
   "outputs": [
    {
     "name": "stdout",
     "output_type": "stream",
     "text": [
      "True\n"
     ]
    }
   ],
   "source": [
    "# or    Returns True if one of the statements is true\n",
    "x = 6\n",
    "\n",
    "print(x > 4 or x < 5)"
   ]
  },
  {
   "cell_type": "code",
   "execution_count": 8,
   "id": "c882992b",
   "metadata": {},
   "outputs": [
    {
     "name": "stdout",
     "output_type": "stream",
     "text": [
      "True\n",
      "False\n"
     ]
    }
   ],
   "source": [
    "# not - Reverse the result, returns False if the result is true\n",
    "\n",
    "x = 8\n",
    "print(x > 4 and x < 9)\n",
    "print(not(x > 4 and x < 9))"
   ]
  },
  {
   "cell_type": "markdown",
   "id": "34ab5be3",
   "metadata": {},
   "source": [
    "__3. Make a list of each Boolean operator's truth tables (i.e. every possible combination of Boolean values for the operator and what it evaluate ).__"
   ]
  },
  {
   "cell_type": "markdown",
   "id": "90335765",
   "metadata": {},
   "source": [
    "Ans_3:\n",
    "\n",
    "\n",
    "|Boolean value|operator|boolean value|evaluated Result|\n",
    "--------------|--------|-------------|----------------|\n",
    "|    False     |  and   |  False      | False          |\n",
    "|    False     |  and   |  True      | False          |\n",
    "|    True     |  and   |  False      | False          |\n",
    "|    True     |  and   |  True      | True      |\n",
    "|    False     |  or   |  False      | False     |\n",
    "|    False     |  or   |  True     | True      |\n",
    "|    True     |  or   |  False      | True      |\n",
    "|    True     |  or   |  True     | True      |\n",
    "|          |  not   |  True     | False      |\n",
    "|          |  not   |  False      | True      |\n",
    "\n",
    "\n",
    "\n",
    "\n",
    "\n",
    "\n"
   ]
  },
  {
   "cell_type": "markdown",
   "id": "e8bb7039",
   "metadata": {},
   "source": [
    "__4. What are the values of the following expressions?__\n",
    "\n",
    "Ans_4:\n",
    "\n",
    "    (5 > 4) and (3 == 5)       -- False \n",
    "    not (5 > 4)                -- False\n",
    "    (5 > 4) or (3 == 5)        -- True\n",
    "    not ((5 > 4) or (3 == 5))  -- Fasle\n",
    "    (True and True) and (True == False)  -- False\n",
    "    (not False) or (not True)     ---  True\n"
   ]
  },
  {
   "cell_type": "markdown",
   "id": "1da12b06",
   "metadata": {},
   "source": [
    "__5. What are the six comparison operators?__"
   ]
  },
  {
   "cell_type": "markdown",
   "id": "e686929f",
   "metadata": {},
   "source": [
    "Ans_5 : Below are six  comparison operators\n",
    "\n",
    "    Operator\tName\t\t\t\t \n",
    "        ==\t\tEqual\t\t\t\t \n",
    "        !=\t\tNot equal\t\t\t \n",
    "        >\t\tGreater than\t\t \n",
    "        <\t\tLess than\t\t\t \n",
    "        >=\t\tGreater than or equal to\t \n",
    "        <=\t\tLess than or equal to\t\t \n"
   ]
  },
  {
   "cell_type": "markdown",
   "id": "7b1c493d",
   "metadata": {},
   "source": [
    "__6. How do you tell the difference between the equal to and assignment operators?Describe a condition and when you would use one.__"
   ]
  },
  {
   "cell_type": "markdown",
   "id": "858bca2f",
   "metadata": {},
   "source": [
    "Ans_6 :\n",
    "\n",
    "__assignment operator (i.e. =)__\n",
    "\n",
    "        It is an assignment operator.\n",
    "        It is used for assigning the value to a variable.\n",
    "        Constant term cannot be placed on left hand side. Example: 1=x; is invalid.\n",
    "\n",
    "\n",
    "__equal to (i.e. ==)__\n",
    "\n",
    "    It is a relational or comparison operator.\n",
    "    It is used for comparing two values. It returns 1 if both the values are equal otherwise returns 0.\n",
    "    Constant term can be placed in the left hand side. Example: 1==1 is valid and returns 1.\n"
   ]
  },
  {
   "cell_type": "markdown",
   "id": "b131d109",
   "metadata": {},
   "source": [
    "__7. Identify the three blocks in this code:__\n",
    "\n",
    "    spam = 0\n",
    "    if spam == 10:\n",
    "    print('eggs')\n",
    "    if spam > 5:\n",
    "    print('bacon')\n",
    "    else:\n",
    "    print('ham')\n",
    "    print('spam')\n",
    "    print('spam')\n",
    "\n"
   ]
  },
  {
   "cell_type": "markdown",
   "id": "f411fd23",
   "metadata": {},
   "source": [
    "Ans_7\n",
    "\n",
    "Below are the three blocks;"
   ]
  },
  {
   "cell_type": "code",
   "execution_count": 9,
   "id": "1a9f7201",
   "metadata": {},
   "outputs": [
    {
     "name": "stdout",
     "output_type": "stream",
     "text": [
      "ham\n",
      "spam\n",
      "spam\n"
     ]
    }
   ],
   "source": [
    "# block 1 \n",
    "spam = 0\n",
    "if spam == 10:\n",
    "    print('eggs')\n",
    "\n",
    "# block 2\n",
    "if spam > 5:\n",
    "    print('bacon')\n",
    "\n",
    "# block 3\n",
    "else:\n",
    "    print('ham')\n",
    "    print('spam')\n",
    "    print('spam')"
   ]
  },
  {
   "cell_type": "markdown",
   "id": "b1b40bae",
   "metadata": {},
   "source": [
    "__8. Write code that prints Hello if 1 is stored in spam, prints Howdy if 2 is stored in spam, and prints Greetings! if anything else is stored in spam.__"
   ]
  },
  {
   "cell_type": "markdown",
   "id": "333ca2de",
   "metadata": {},
   "source": [
    "Ans_8"
   ]
  },
  {
   "cell_type": "code",
   "execution_count": 1,
   "id": "d8b859a8",
   "metadata": {},
   "outputs": [
    {
     "name": "stdout",
     "output_type": "stream",
     "text": [
      "Howdy\n"
     ]
    }
   ],
   "source": [
    "spam = 2\n",
    "if spam == 1:\n",
    "    print(\"Hello\")\n",
    "elif spam == 2:\n",
    "    print(\"Howdy\")\n",
    "else:\n",
    "    print(\"Greetings!\")"
   ]
  },
  {
   "cell_type": "markdown",
   "id": "cd81cb0e",
   "metadata": {},
   "source": [
    "__9.If your programme is stuck in an endless loop, what keys you’ll press?__\n",
    "\n",
    "Ans_9:\n",
    "\n",
    "1. if in Jupyter notebook then \"intrept the karnel\"\n",
    "2. if in PyCharm IDE then Ctrl+F12 \n",
    "3. on CMD Ctrl+C\n",
    "\n",
    "\n"
   ]
  },
  {
   "cell_type": "markdown",
   "id": "97294412",
   "metadata": {},
   "source": [
    "__10. How can you tell the difference between break and continue?__"
   ]
  },
  {
   "cell_type": "markdown",
   "id": "9afef287",
   "metadata": {},
   "source": [
    "Ans_10:\n",
    "\n",
    "__break__\n",
    "  \n",
    "    It is used for the termination of all the remaining iterations of the loop.\n",
    "    The line which is just after the loop will gain control of the program.\n",
    "    It performs the termination of the loop.\n",
    "    It stops the continuation of the loop.\n",
    "    It can be used with labels and switches.\n",
    "\n",
    "__Continue__\n",
    "\n",
    "    It is used for the termination of the only current iteration of the loop.\n",
    "    The control will pass to the next iteration of that current loop by skipping the current iteration.\n",
    "    It performs early execution of the next loop by skipping the current one.\n",
    "    It stops the execution of the current iteration.\n",
    "    It can't be used with labels and switches.\n",
    "\n"
   ]
  },
  {
   "cell_type": "markdown",
   "id": "e450e710",
   "metadata": {},
   "source": [
    "__11. In a for loop, what is the difference between range(10), range(0, 10), and range(0, 10, 1)?__\n",
    "\n",
    "Ans_11:  \n",
    "\n",
    "    range(10), \n",
    "    range(0, 10), and \n",
    "    range(0, 10, 1) all provide same Results. see below Examples;"
   ]
  },
  {
   "cell_type": "code",
   "execution_count": 2,
   "id": "0f6927a7",
   "metadata": {},
   "outputs": [
    {
     "name": "stdout",
     "output_type": "stream",
     "text": [
      "0123456789"
     ]
    }
   ],
   "source": [
    "for i in range(10):\n",
    "    print(i, end=\"\")"
   ]
  },
  {
   "cell_type": "code",
   "execution_count": 3,
   "id": "61d6da24",
   "metadata": {},
   "outputs": [
    {
     "name": "stdout",
     "output_type": "stream",
     "text": [
      "0123456789"
     ]
    }
   ],
   "source": [
    "for i in range(0, 10):\n",
    "    print(i, end=\"\")"
   ]
  },
  {
   "cell_type": "code",
   "execution_count": 4,
   "id": "f7dfab7e",
   "metadata": {},
   "outputs": [
    {
     "name": "stdout",
     "output_type": "stream",
     "text": [
      "0123456789"
     ]
    }
   ],
   "source": [
    "for i in range(0, 10, 1):\n",
    "    print(i, end=\"\")"
   ]
  },
  {
   "cell_type": "markdown",
   "id": "f0b37db1",
   "metadata": {},
   "source": [
    "__12. Write a short program that prints the numbers 1 to 10 using a for loop. Then write an equivalent program that prints the numbers 1 to 10 using a while loop.__\n",
    "\n",
    "Ans_12:\n"
   ]
  },
  {
   "cell_type": "code",
   "execution_count": 14,
   "id": "e38f7897",
   "metadata": {},
   "outputs": [
    {
     "name": "stdout",
     "output_type": "stream",
     "text": [
      "1\n",
      "2\n",
      "3\n",
      "4\n",
      "5\n",
      "6\n",
      "7\n",
      "8\n",
      "9\n",
      "10\n"
     ]
    }
   ],
   "source": [
    "# for loop\n",
    "\n",
    "for i in range(1, 11):\n",
    "    print(i)"
   ]
  },
  {
   "cell_type": "code",
   "execution_count": 15,
   "id": "64694359",
   "metadata": {},
   "outputs": [
    {
     "name": "stdout",
     "output_type": "stream",
     "text": [
      "1\n",
      "2\n",
      "3\n",
      "4\n",
      "5\n",
      "6\n",
      "7\n",
      "8\n",
      "9\n",
      "10\n"
     ]
    }
   ],
   "source": [
    "# While Loop;\n",
    "\n",
    "n = 1\n",
    "while n <= 10:\n",
    "    print(n)\n",
    "    n += 1"
   ]
  },
  {
   "cell_type": "markdown",
   "id": "07b6a63a",
   "metadata": {},
   "source": [
    "__13. If you had a function named bacon() inside a module named spam, how would you call it after importing spam?__"
   ]
  },
  {
   "cell_type": "markdown",
   "id": "2f96d703",
   "metadata": {},
   "source": [
    "Ans_13.:\n",
    "\n",
    "   \n",
    "    import spam\n",
    "\n",
    "    spam.bacon()"
   ]
  }
 ],
 "metadata": {
  "kernelspec": {
   "display_name": "Python 3 (ipykernel)",
   "language": "python",
   "name": "python3"
  },
  "language_info": {
   "codemirror_mode": {
    "name": "ipython",
    "version": 3
   },
   "file_extension": ".py",
   "mimetype": "text/x-python",
   "name": "python",
   "nbconvert_exporter": "python",
   "pygments_lexer": "ipython3",
   "version": "3.10.11"
  },
  "toc": {
   "base_numbering": 1,
   "nav_menu": {},
   "number_sections": true,
   "sideBar": true,
   "skip_h1_title": false,
   "title_cell": "Table of Contents",
   "title_sidebar": "Contents",
   "toc_cell": false,
   "toc_position": {},
   "toc_section_display": true,
   "toc_window_display": false
  }
 },
 "nbformat": 4,
 "nbformat_minor": 5
}
