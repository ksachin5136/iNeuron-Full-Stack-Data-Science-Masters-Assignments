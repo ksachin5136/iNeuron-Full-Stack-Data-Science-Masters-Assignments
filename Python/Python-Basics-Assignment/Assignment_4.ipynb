{
 "cells": [
  {
   "cell_type": "markdown",
   "id": "c1359c2a",
   "metadata": {},
   "source": [
    "__1. What exactly is []?__\n",
    "\n",
    "Ans_1: `[]` creates Empty list(i.e. list of length zero)\n",
    "\n",
    "Example;"
   ]
  },
  {
   "cell_type": "code",
   "execution_count": 1,
   "id": "3798a95e",
   "metadata": {},
   "outputs": [
    {
     "name": "stdout",
     "output_type": "stream",
     "text": [
      "<class 'list'> 0 []\n"
     ]
    }
   ],
   "source": [
    "alist = []\n",
    "print(type(alist), len(alist), alist)"
   ]
  },
  {
   "cell_type": "markdown",
   "id": "ca0081c5",
   "metadata": {},
   "source": [
    "__2. In a list of values stored in a variable called spam, how would you assign the value 'hello' as the third value? (Assume [2, 4, 6, 8, 10] are in spam.)__\n",
    "\n",
    "Ans_2:"
   ]
  },
  {
   "cell_type": "code",
   "execution_count": 10,
   "id": "91830cfb",
   "metadata": {},
   "outputs": [
    {
     "name": "stdout",
     "output_type": "stream",
     "text": [
      "spam before Update: [2, 4, 6, 8, 10]\n",
      "spam After  Update: [2, 4, 'hello', 8, 10]\n"
     ]
    }
   ],
   "source": [
    "spam = [2, 4, 6, 8, 10]\n",
    "print(\"spam before Update:\", spam)\n",
    "spam[2] = \"hello\"\n",
    "print(\"spam After  Update:\", spam)"
   ]
  },
  {
   "cell_type": "markdown",
   "id": "389c4ef5",
   "metadata": {},
   "source": [
    "__3. spam = ['a', 'b', 'c', 'd'] , What is the value of spam[int(int('3' * 2) / 11)]?__\n",
    "\n",
    "Ans_3:\n",
    "\n",
    "`spam[int(int('3' * 2) / 11)]`\n",
    "\n",
    "here;\n",
    "\n",
    "    1. '3' * 2       -- string '3' is getting multiply by 2 and giving string '33' \n",
    "    2. int('33')/11  -- its type casting string '33' into int 33 and 33/11 become 3 \n",
    "    3. int(3)        -- its giving 3 as int\n",
    "    4. spam[3]       -- Accessing 4th element in the spam list, \n",
    "    5  so answer will be 'd'\n",
    "example;"
   ]
  },
  {
   "cell_type": "code",
   "execution_count": 4,
   "id": "d888be32",
   "metadata": {},
   "outputs": [
    {
     "name": "stdout",
     "output_type": "stream",
     "text": [
      "spam: ['a', 'b', 'c', 'd']\n"
     ]
    }
   ],
   "source": [
    "spam = ['a', 'b', 'c', 'd']\n",
    "print(\"spam:\", spam)"
   ]
  },
  {
   "cell_type": "code",
   "execution_count": 5,
   "id": "aaaed6e3",
   "metadata": {},
   "outputs": [
    {
     "data": {
      "text/plain": [
       "'d'"
      ]
     },
     "execution_count": 5,
     "metadata": {},
     "output_type": "execute_result"
    }
   ],
   "source": [
    "spam[int(int('3' * 2) / 11)]"
   ]
  },
  {
   "cell_type": "markdown",
   "id": "149d4b29",
   "metadata": {},
   "source": [
    "__4. spam = ['a', 'b', 'c', 'd'], What is the value of spam[-1]?__\n",
    "\n",
    "Ans_4: `spam[-1]` will access the last element in the list spam so answer is `'d'`\n",
    "\n",
    "Example "
   ]
  },
  {
   "cell_type": "code",
   "execution_count": 6,
   "id": "a3469d09",
   "metadata": {},
   "outputs": [
    {
     "data": {
      "text/plain": [
       "'d'"
      ]
     },
     "execution_count": 6,
     "metadata": {},
     "output_type": "execute_result"
    }
   ],
   "source": [
    "spam = ['a', 'b', 'c', 'd']\n",
    "spam[-1]"
   ]
  },
  {
   "cell_type": "markdown",
   "id": "2319058a",
   "metadata": {},
   "source": [
    "__5. spam = ['a', 'b', 'c', 'd'], What is the value of spam[:2]?__\n",
    "\n",
    "Ans_5:  `spam[:2]`  -- here we are using Range of Indexes to access elemnts of spam list and result will be another list which is `['a', 'b']`\n",
    "\n",
    "example;"
   ]
  },
  {
   "cell_type": "code",
   "execution_count": 7,
   "id": "6b1c9a5a",
   "metadata": {},
   "outputs": [
    {
     "data": {
      "text/plain": [
       "['a', 'b']"
      ]
     },
     "execution_count": 7,
     "metadata": {},
     "output_type": "execute_result"
    }
   ],
   "source": [
    "spam = ['a', 'b', 'c', 'd']\n",
    "spam[:2]"
   ]
  },
  {
   "cell_type": "markdown",
   "id": "eaa02f4c",
   "metadata": {},
   "source": [
    "> Let's pretend bacon has the list [3.14, 'cat,' 11, 'cat,' True] for the next three questions.\n",
    "\n",
    "__NOTE: \n",
    "bacon=[3.14, 'cat,' 11, 'cat,' True]. it is syntactically  wrong. `'cat,'`  should be `'cat',`\n",
    "so i am correcting it and doing below Three questions__"
   ]
  },
  {
   "cell_type": "markdown",
   "id": "2fca3082",
   "metadata": {},
   "source": [
    "__6. What is the value of bacon.index('cat')?__\n",
    "\n",
    "Ans_6: `bacon.index('cat')` will provide index of first occurrence  of element 'cat' in list bacon , which is 1.\n",
    "\n",
    "example ;"
   ]
  },
  {
   "cell_type": "code",
   "execution_count": 7,
   "id": "09d037bc",
   "metadata": {},
   "outputs": [
    {
     "name": "stdout",
     "output_type": "stream",
     "text": [
      "bacon: [3.14, 'cat', 11, 'cat', True]\n",
      "bacon.index('cat'): 1\n"
     ]
    }
   ],
   "source": [
    "bacon = [3.14, 'cat', 11, 'cat', True]\n",
    "print(\"bacon:\", bacon)\n",
    "print(\"bacon.index('cat'):\", bacon.index('cat'))"
   ]
  },
  {
   "cell_type": "markdown",
   "id": "db5569c1",
   "metadata": {},
   "source": [
    "__7. How does bacon.append(99) change the look of the list value in bacon?__\n",
    "\n",
    "Ans_7: `bacon.append(99)`  will add 99 as an element in the end of the bacon list and bacon will be  `[3.14, 'cat', 11, 'cat', True, 99]`\n",
    "\n",
    "example ;"
   ]
  },
  {
   "cell_type": "code",
   "execution_count": 8,
   "id": "fd42d84a",
   "metadata": {},
   "outputs": [
    {
     "name": "stdout",
     "output_type": "stream",
     "text": [
      "bacon before append: [3.14, 'cat', 11, 'cat', True]\n",
      "bacon after  append: [3.14, 'cat', 11, 'cat', True, 99]\n"
     ]
    }
   ],
   "source": [
    "bacon = [3.14, 'cat', 11, 'cat', True]\n",
    "print(\"bacon before append:\", bacon)\n",
    "bacon.append(99)\n",
    "print(\"bacon after  append:\", bacon)"
   ]
  },
  {
   "cell_type": "markdown",
   "id": "e7e99b03",
   "metadata": {},
   "source": [
    "__8. How does bacon.remove('cat') change the look of the list in bacon?__\n",
    "\n",
    "Ans_8: `bacon.remove('cat')`  will remove  first occurrence of element 'cat' from bacon list and  bacon will be `[3.14, 11, 'cat', True]`\n",
    "\n",
    "example ;"
   ]
  },
  {
   "cell_type": "code",
   "execution_count": 9,
   "id": "6ee19131",
   "metadata": {},
   "outputs": [
    {
     "name": "stdout",
     "output_type": "stream",
     "text": [
      "bacon before remove: [3.14, 'cat', 11, 'cat', True]\n",
      "bacon after  remove: [3.14, 11, 'cat', True]\n"
     ]
    }
   ],
   "source": [
    "bacon = [3.14, 'cat', 11, 'cat', True]\n",
    "print(\"bacon before remove:\", bacon)\n",
    "bacon.remove('cat')\n",
    "print(\"bacon after  remove:\", bacon)"
   ]
  },
  {
   "cell_type": "markdown",
   "id": "30adb763",
   "metadata": {},
   "source": [
    "__9. What are the list concatenation and list replication operators?__\n",
    "\n",
    "`+` - its list concatenation operator\n",
    "\n",
    "`*` - its list replication operator\n",
    "\n",
    "•\tWhen + appears between two lists, the expression will be evaluated as a new list that contains the elements from both lists. The elements in the list on the left of + will appear first, and the elements on the right will appear last.\n",
    "\n",
    "•\tWhen * appears between a list and an integer, the expression will be evaluated as a new list that consists of several copies of the original list concatenated together. The number of copies is set by the integer.\n",
    "\n",
    "Example;"
   ]
  },
  {
   "cell_type": "code",
   "execution_count": 10,
   "id": "c437fe6e",
   "metadata": {},
   "outputs": [
    {
     "name": "stdout",
     "output_type": "stream",
     "text": [
      "list concatenation: ['A', 'B', 'C', 1, 2, 3]\n",
      "list replication: [1, 2, 3, 1, 2, 3, 1, 2, 3, 1, 2, 3]\n"
     ]
    }
   ],
   "source": [
    "letter_list = ['A', 'B', 'C']\n",
    "number_list = [1, 2, 3]\n",
    "\n",
    "print(\"list concatenation:\", letter_list + number_list)\n",
    "print(\"list replication:\", number_list * 4)"
   ]
  },
  {
   "cell_type": "markdown",
   "id": "71105732",
   "metadata": {},
   "source": [
    "__10. What is difference between the list methods append() and insert()?__\n",
    "\n",
    "Ans_10:\n",
    "\n",
    "`insert()`  -  The insert() method inserts the specified value at the specified position/Index.\n",
    "\n",
    "`append()`   - The append() method appends an element to the end of the list.\n",
    "\n",
    "Example;\n"
   ]
  },
  {
   "cell_type": "code",
   "execution_count": 11,
   "id": "3307e30d",
   "metadata": {},
   "outputs": [
    {
     "name": "stdout",
     "output_type": "stream",
     "text": [
      "['apple', 'banana', 'cherry']\n",
      "['apple', 'orange', 'banana', 'cherry']\n"
     ]
    }
   ],
   "source": [
    "# Example Insert the value \"orange\" as the second element of the fruit list:\n",
    "\n",
    "fruits = ['apple', 'banana', 'cherry']\n",
    "print(fruits)\n",
    "\n",
    "fruits.insert(1, \"orange\") # index start with 0 hence for 2nd element the index value will be 1 \n",
    "print(fruits)"
   ]
  },
  {
   "cell_type": "code",
   "execution_count": 12,
   "id": "c812acca",
   "metadata": {},
   "outputs": [
    {
     "name": "stdout",
     "output_type": "stream",
     "text": [
      "['apple', 'banana', 'cherry']\n",
      "['apple', 'banana', 'cherry', 'orange']\n"
     ]
    }
   ],
   "source": [
    "# Example Add an element to the fruits list:\n",
    "fruits = [\"apple\", \"banana\", \"cherry\"]\n",
    "print(fruits)\n",
    "\n",
    "fruits.append(\"orange\") # adding an element to the fruits list\n",
    "print(fruits)"
   ]
  },
  {
   "cell_type": "markdown",
   "id": "a9bfd58e",
   "metadata": {},
   "source": [
    "__11. What are the two methods for removing items from a list?__"
   ]
  },
  {
   "cell_type": "markdown",
   "id": "c9db4d36",
   "metadata": {},
   "source": [
    "Ans_11: \n",
    "\n",
    "`remove()`- The remove() method removes the first occurrence of the element with the specified value.\n",
    "\n",
    "`pop()`   - The pop() method removes the element at the specified position (or the last item if index is not specified)\n",
    "\n",
    "example;"
   ]
  },
  {
   "cell_type": "code",
   "execution_count": 13,
   "id": "2c392aff",
   "metadata": {},
   "outputs": [
    {
     "name": "stdout",
     "output_type": "stream",
     "text": [
      "['apple', 'banana', 'cherry', 'banana']\n",
      "['apple', 'cherry', 'banana']\n"
     ]
    }
   ],
   "source": [
    "# Example Remove the \"banana\" element of the fruit list\n",
    "fruits = ['apple', 'banana', 'cherry', 'banana'] # see here 'banana' is two times\n",
    "print(fruits)\n",
    "fruits.remove(\"banana\") # --> but this will remove only first occurrence of 'banana' from left to right \n",
    "print(fruits)"
   ]
  },
  {
   "cell_type": "code",
   "execution_count": 14,
   "id": "d0fc52de",
   "metadata": {},
   "outputs": [
    {
     "name": "stdout",
     "output_type": "stream",
     "text": [
      "['apple', 'banana', 'cherry']\n",
      "['apple', 'cherry']\n",
      "<class 'str'> banana\n"
     ]
    }
   ],
   "source": [
    "# Example Remove the second element of the fruit list:\n",
    "\n",
    "fruits = ['apple', 'banana', 'cherry']\n",
    "print(fruits)\n",
    "element1 = fruits.pop(1) # Note: The pop() method returns removed value with this you can capture what pop() has removed. \n",
    "print(fruits)\n",
    "\n",
    "print(type(element1),element1) # pop() removed this one"
   ]
  },
  {
   "cell_type": "markdown",
   "id": "cab0bd83",
   "metadata": {},
   "source": [
    "__12. Describe how list values and string values are identical.__\n",
    "\n",
    "Ans_12: \n",
    "\n",
    "1. Both Lists and Strings in Python are of Sequence Data Type\n",
    "2. Both list values and string values are iterable objects.\n",
    "3. Strings are ordered collections of characters and same way List are ordered collections of elements.\n",
    "4. Slicing can be performed on list values and string values\n",
    "5. len() method can be performed on both to get the length of lists and strings. \n"
   ]
  },
  {
   "cell_type": "markdown",
   "id": "1405862e",
   "metadata": {},
   "source": [
    "__13. What's the difference between tuples and lists?__\n",
    "\n",
    "Ans_13: \n",
    "\n",
    "__Lists:__\n",
    "\n",
    "1. Lists are mutable\n",
    "2. The implication of iterations is Time-consuming\t\n",
    "3. The list is better for performing operations, such as insertion and deletion.\t\n",
    "4. Lists consume more memory\t\n",
    "5. Lists have several built-in methods\t\n",
    "6. Unexpected changes and errors are more likely to occur\t\n",
    "\n",
    " \n",
    "__Tuples:__\n",
    "\n",
    "1. Tuples are immutable\n",
    "2. The implication of iterations is comparatively Faster\n",
    "3. A Tuple data type is appropriate for accessing the elements\n",
    "4. Tuple consumes less memory as compared to the list\n",
    "5. Tuple does not have many built-in methods.\n",
    "6. In a tuple, Errors are less as Compared to Lists.\n"
   ]
  },
  {
   "cell_type": "markdown",
   "id": "dd18a2b5",
   "metadata": {},
   "source": [
    "__14. How do you type a tuple value that only contains the integer 42?__\n",
    "\n",
    "Ans_14: There are couple of ways to create a tuple having only single element. i am using here tuple constructor `tuple()`"
   ]
  },
  {
   "cell_type": "code",
   "execution_count": 8,
   "id": "43c0506e",
   "metadata": {},
   "outputs": [
    {
     "name": "stdout",
     "output_type": "stream",
     "text": [
      "<class 'tuple'> (42,)\n"
     ]
    }
   ],
   "source": [
    "atuple = tuple((42, ))  # trailing comma (\",\") is needed to indicate that we are trying to create tuple of single element\n",
    "\n",
    "print(type(atuple), atuple)"
   ]
  },
  {
   "cell_type": "markdown",
   "id": "67256984",
   "metadata": {},
   "source": [
    "__15. How do you get a list value's tuple form? How do you get a tuple value's list form?__\n",
    "\n",
    "Ans_15: \n",
    "\n",
    "1. To get a list value's as tuple form we can use `tuple constructor`\n",
    "\n",
    "Example; \n"
   ]
  },
  {
   "cell_type": "code",
   "execution_count": 9,
   "id": "9642d1c5",
   "metadata": {},
   "outputs": [
    {
     "name": "stdout",
     "output_type": "stream",
     "text": [
      "input list: ['apple', 'orange', 'banana']\n",
      "tuple form of input list: ('apple', 'orange', 'banana')\n"
     ]
    }
   ],
   "source": [
    "# get a list value's tuple form\n",
    "\n",
    "alist = [\"apple\", \"orange\", \"banana\"]\n",
    "print(\"input list:\", alist)\n",
    "atuple = tuple(alist)  # using the tuple constructor tuple()\n",
    "print(\"tuple form of input list:\", atuple)"
   ]
  },
  {
   "cell_type": "markdown",
   "id": "d8c8bcc7",
   "metadata": {},
   "source": [
    "2. To get a tuple value's as List form we can use `list constructor` \n",
    "\n",
    "Example;"
   ]
  },
  {
   "cell_type": "code",
   "execution_count": 17,
   "id": "abd144c3",
   "metadata": {},
   "outputs": [
    {
     "name": "stdout",
     "output_type": "stream",
     "text": [
      "input tuple: ('apple', 'orange', 'banana')\n",
      "list form of input tuple: ['apple', 'orange', 'banana']\n"
     ]
    }
   ],
   "source": [
    "# get a tuple value's list\n",
    "\n",
    "atuple = (\"apple\", \"orange\", \"banana\")\n",
    "print(\"input tuple:\", atuple)\n",
    "alist = list(atuple)  # using the list constructor list()\n",
    "print(\"list form of input tuple:\", alist)"
   ]
  },
  {
   "cell_type": "markdown",
   "id": "2f438cfb",
   "metadata": {},
   "source": [
    "__16. Variables that \"contain\" list values are not necessarily lists themselves. Instead, what do they contain?__\n",
    "\n",
    "Ans_16:  Variables that \"contain\" list values are not necessarily lists themselves. Instead, they contain the Reference to the list objects\n",
    "\n",
    "Example;"
   ]
  },
  {
   "cell_type": "code",
   "execution_count": 18,
   "id": "5b33ff01",
   "metadata": {},
   "outputs": [
    {
     "name": "stdout",
     "output_type": "stream",
     "text": [
      "<class 'tuple'> ([1, 2, 3], [4, 5])\n",
      "<class 'list'> [1, 2, 3]\n",
      "<class 'list'> [4, 5]\n"
     ]
    }
   ],
   "source": [
    "# The following defines a tuple whose elements are the two lists:\n",
    "low = [1, 2, 3]\n",
    "high = [4, 5]\n",
    "\n",
    "rankings = (low, high)\n",
    "\n",
    "print(type(rankings), rankings)\n",
    "print(type(rankings[0]), rankings[0])\n",
    "print(type(rankings[1]), rankings[1])"
   ]
  },
  {
   "cell_type": "markdown",
   "id": "48d4831e",
   "metadata": {},
   "source": [
    "\n",
    "__17. How do you distinguish between copy.copy() and copy.deepcopy()?__\n",
    "\n",
    "Ans_17:\n",
    "\n",
    "__copy.copy() a.k.a. Shallow Copy__:\n",
    "\n",
    "1. Shallow Copy stores the references of objects to the original memory address.\n",
    "2. Shallow Copy creates a new  object and populates its values from original object.\n",
    "2. Shallow Copy reflects changes made to the new/copied object in the original object.\n",
    "3. Shallow Copy stores the copy of the original object and points the references to the objects.\n",
    "4. A shallow copy is faster.\n",
    "\n",
    "__copy.deepcopy() a.k.a. Deep Copy:__\n",
    "\n",
    "1. Deep copy stores copies of the object’s value. Which means two separate objects gets created with same values. \n",
    "2. in Deep Copy a copy of the object is copied into another object.\n",
    "2. Deep copy doesn’t reflect changes made to the new/copied object in the original object.\n",
    "3. Deep copy stores the copy of the original object and recursively copies the objects as well.\n",
    "4. Deep copy is comparatively slower.\n",
    "\n",
    "Example;"
   ]
  },
  {
   "cell_type": "code",
   "execution_count": 19,
   "id": "cd4960bd",
   "metadata": {},
   "outputs": [
    {
     "name": "stdout",
     "output_type": "stream",
     "text": [
      "<class 'list'> [1, 2, [3, 5], 4] at memory address: 2369820877824\n",
      "<class 'list'> [1, 2, [7, 5], 4] at memory address: 2369820052544\n"
     ]
    }
   ],
   "source": [
    "import copy\n",
    "\n",
    "# initializing list 1\n",
    "list1 = [1, 2, [3, 5], 4]\n",
    "\n",
    "# using deepcopy to deep copy\n",
    "list2 = copy.deepcopy(list1)\n",
    "list2[2][0] = 7\n",
    "\n",
    "print(type(list1), list1, \"at memory address:\", id(list1))\n",
    "print(type(list2), list2, \"at memory address:\", id(list2))"
   ]
  },
  {
   "cell_type": "code",
   "execution_count": 20,
   "id": "0efdf1ee",
   "metadata": {},
   "outputs": [
    {
     "name": "stdout",
     "output_type": "stream",
     "text": [
      "list1: [1, 2, [3, 5], 4] at memory address: 2369820133824\n",
      "\n",
      "list1: [1, 2, [7, 5], 4] at memory address: 2369820133824\n",
      "list2: [1, 2, [7, 5], 4] at memory address: 2369820133312\n"
     ]
    }
   ],
   "source": [
    "import copy\n",
    "\n",
    "# initializing list 1\n",
    "list1 = [1, 2, [3, 5], 4]\n",
    "\n",
    "print(\"list1:\", list1, \"at memory address:\", id(list1))\n",
    "\n",
    "# using deepcopy to deep copy\n",
    "list2 = copy.copy(list1)\n",
    "list2[2][0] = 7\n",
    "print()\n",
    "print(\"list1:\", list1, \"at memory address:\", id(list1))\n",
    "print(\"list2:\", list2, \"at memory address:\", id(list2))"
   ]
  }
 ],
 "metadata": {
  "kernelspec": {
   "display_name": "Python 3 (ipykernel)",
   "language": "python",
   "name": "python3"
  },
  "language_info": {
   "codemirror_mode": {
    "name": "ipython",
    "version": 3
   },
   "file_extension": ".py",
   "mimetype": "text/x-python",
   "name": "python",
   "nbconvert_exporter": "python",
   "pygments_lexer": "ipython3",
   "version": "3.10.11"
  },
  "toc": {
   "base_numbering": 1,
   "nav_menu": {},
   "number_sections": true,
   "sideBar": true,
   "skip_h1_title": false,
   "title_cell": "Table of Contents",
   "title_sidebar": "Contents",
   "toc_cell": false,
   "toc_position": {},
   "toc_section_display": true,
   "toc_window_display": false
  }
 },
 "nbformat": 4,
 "nbformat_minor": 5
}
