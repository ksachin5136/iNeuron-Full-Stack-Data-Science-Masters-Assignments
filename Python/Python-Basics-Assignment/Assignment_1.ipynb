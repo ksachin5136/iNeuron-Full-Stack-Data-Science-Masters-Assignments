{
 "cells": [
  {
   "cell_type": "markdown",
   "id": "d5252fb8",
   "metadata": {},
   "source": [
    "__1. In the below elements which of them are values or an expression? eg:- values can be integer or string and expressions will be mathematical operators.__\n",
    "\n",
    "        * \n",
    "        'hello'\n",
    "        -87.8\n",
    "        - \n",
    "        / \n",
    "        +\t\n",
    "        6\n",
    "\n"
   ]
  },
  {
   "cell_type": "markdown",
   "id": "896035b8",
   "metadata": {},
   "source": [
    "Ans_1\n",
    "\n",
    "        *       --expression\n",
    "        'hello' --value\n",
    "        -87.8   --value\n",
    "        -       --expression\n",
    "        /       --expression\n",
    "        +       --expression\n",
    "        6       --value"
   ]
  },
  {
   "cell_type": "markdown",
   "id": "8d59d9a7",
   "metadata": {},
   "source": [
    "__2. What is the difference between string and variable?__\n",
    "\n",
    "Ans_2:\n",
    "\n",
    ">String -  String are the values of String DataType. For example ; \n",
    "\n",
    "    \"Hello\" or 'Hello' is String \n",
    "\n",
    "\n",
    ">Variable - Variables are the containers which actually contains the values (more precisely the reference of address where values stored)\n",
    "\n",
    "    x = \"Hello\"\n",
    "\n",
    "    here x is the variable which conatins the String Type of Value \"Hello\""
   ]
  },
  {
   "cell_type": "markdown",
   "id": "dce4df5a",
   "metadata": {},
   "source": [
    "__3.Describe three different data types.__\n",
    "\n",
    "Ans_3:\n",
    "\n",
    "__String:__ A string value is a collection of one or more characters put in single, double or triple quotes.\n",
    "\n",
    "__List:__ A list object is an ordered collection of one or more data items, not necessarily of the same type, put in square brackets.\n",
    "\n",
    "__Tuple :__ A Tuple object is an ordered collection of one or more data items, not necessarily of the same type, put in parentheses.\n",
    "\n",
    "\n"
   ]
  },
  {
   "cell_type": "markdown",
   "id": "d05295b4",
   "metadata": {},
   "source": [
    "__4. What is an expression made up of? What do all expressions do?__"
   ]
  },
  {
   "cell_type": "markdown",
   "id": "745303f0",
   "metadata": {},
   "source": [
    "Ans_4: \n",
    "\n",
    "Python Expression contains the identifiers, operators, and operands. Expressions gets evaluated and produce the results\n",
    "\n",
    "example x = 2+3. Once it gets evaluated results will be 5 which will get stored to variable x."
   ]
  },
  {
   "cell_type": "markdown",
   "id": "cefc375a",
   "metadata": {},
   "source": [
    "__5. This assignment statements, like spam = 10. What is the difference between an expression and a statement?__\n",
    "\n",
    "Ans_5"
   ]
  },
  {
   "cell_type": "markdown",
   "id": "861131d1",
   "metadata": {},
   "source": [
    "|Statement in Python|Expression in Python|\n",
    "|--------------------|--------------------|\n",
    "|A statement in Python is used for creating variables or for displaying values.\t|The expression in Python produces some value or result after being interpreted by the Python interpreter.|\n",
    "|A statement in Python is not evaluated for some results.\t|An expression in Python is evaluated for some results.|\n",
    "|The execution of a statement changes the state of the variable.|\tThe expression evaluation does not result in any state change.|\n",
    "|A statement can be an expression. |\tAn expression is not a statement.|\n",
    "|Example :  X = 8 , Output : 8  | Example:   x = \t5+2 , output : 7|"
   ]
  },
  {
   "cell_type": "markdown",
   "id": "8a4fef45",
   "metadata": {},
   "source": [
    "__6. After running the following code, what does the variable bacon contain?__\n",
    "\n",
    "    bacon = 22\n",
    "    bacon + 1\n",
    "\n",
    "bacon will contain 22 becasue bacon+1 is an Expression and Expresssion does'nt chnage the state of varibales which involved  in operation. "
   ]
  },
  {
   "cell_type": "code",
   "execution_count": 7,
   "id": "6d9de015",
   "metadata": {},
   "outputs": [],
   "source": [
    "bacon = 22"
   ]
  },
  {
   "cell_type": "code",
   "execution_count": 8,
   "id": "e05fb0d2",
   "metadata": {},
   "outputs": [
    {
     "data": {
      "text/plain": [
       "23"
      ]
     },
     "execution_count": 8,
     "metadata": {},
     "output_type": "execute_result"
    }
   ],
   "source": [
    "bacon + 1"
   ]
  },
  {
   "cell_type": "code",
   "execution_count": 9,
   "id": "51687024",
   "metadata": {},
   "outputs": [
    {
     "data": {
      "text/plain": [
       "22"
      ]
     },
     "execution_count": 9,
     "metadata": {},
     "output_type": "execute_result"
    }
   ],
   "source": [
    "bacon"
   ]
  },
  {
   "cell_type": "markdown",
   "id": "42607c63",
   "metadata": {},
   "source": [
    "__7. What should the values of the following two terms be?__\n",
    "\n",
    "Ans_7:\n",
    "\n",
    "    'spam' + 'spamspam'   = 'spamspamspam'\n",
    "    'spam' * 3            = 'spamspamspam'\n"
   ]
  },
  {
   "cell_type": "code",
   "execution_count": 27,
   "id": "2fbb3c6f",
   "metadata": {},
   "outputs": [
    {
     "data": {
      "text/plain": [
       "'spamspamspam'"
      ]
     },
     "execution_count": 27,
     "metadata": {},
     "output_type": "execute_result"
    }
   ],
   "source": [
    "'spam' + 'spamspam'"
   ]
  },
  {
   "cell_type": "code",
   "execution_count": 28,
   "id": "8a3e048f",
   "metadata": {},
   "outputs": [
    {
     "data": {
      "text/plain": [
       "'spamspamspam'"
      ]
     },
     "execution_count": 28,
     "metadata": {},
     "output_type": "execute_result"
    }
   ],
   "source": [
    "'spam' * 3  "
   ]
  },
  {
   "cell_type": "markdown",
   "id": "bc520b62",
   "metadata": {},
   "source": [
    "__8. Why is eggs a valid variable name while 100 is invalid?__\n",
    "\n",
    "Ans_8: \n",
    "\n",
    "eaggs is valid variable name because its name started with a Alphabet and \n",
    "\n",
    "100 is not a valid variable names because its name is started with a digit (i.e.1).\n",
    "\n",
    "as per Python Variable names rule - A variable name must start with a letter or the underscore character NOT Number."
   ]
  },
  {
   "cell_type": "markdown",
   "id": "e9c8f103",
   "metadata": {},
   "source": [
    "\n",
    "__9. What three functions can be used to get the integer, floating-point number, or string version of a value?__\n",
    "\n",
    "Ans_9:\n"
   ]
  },
  {
   "cell_type": "code",
   "execution_count": 29,
   "id": "65d81236",
   "metadata": {},
   "outputs": [
    {
     "data": {
      "text/plain": [
       "2"
      ]
     },
     "execution_count": 29,
     "metadata": {},
     "output_type": "execute_result"
    }
   ],
   "source": [
    "x = 2\n",
    "x"
   ]
  },
  {
   "cell_type": "code",
   "execution_count": 30,
   "id": "c437dd0e",
   "metadata": {},
   "outputs": [
    {
     "data": {
      "text/plain": [
       "2"
      ]
     },
     "execution_count": 30,
     "metadata": {},
     "output_type": "execute_result"
    }
   ],
   "source": [
    "int(x)"
   ]
  },
  {
   "cell_type": "code",
   "execution_count": 31,
   "id": "4f23fcd2",
   "metadata": {},
   "outputs": [
    {
     "data": {
      "text/plain": [
       "2.0"
      ]
     },
     "execution_count": 31,
     "metadata": {},
     "output_type": "execute_result"
    }
   ],
   "source": [
    " float(x)"
   ]
  },
  {
   "cell_type": "code",
   "execution_count": 32,
   "id": "0823fca7",
   "metadata": {},
   "outputs": [
    {
     "data": {
      "text/plain": [
       "'2'"
      ]
     },
     "execution_count": 32,
     "metadata": {},
     "output_type": "execute_result"
    }
   ],
   "source": [
    "str(x)"
   ]
  },
  {
   "cell_type": "markdown",
   "id": "06f56008",
   "metadata": {},
   "source": [
    "__10. Why does this expression cause an error? How can you fix it?__\n",
    "\n",
    "\n",
    "Ans_10: \n",
    "\n",
    "concatenation of String type and Int Type variable is not allowed in Python hence it’s an `TypeError`. \n",
    "\n",
    "To fix it convert 99 to string. Fixed expression is as below;"
   ]
  },
  {
   "cell_type": "code",
   "execution_count": 10,
   "id": "a960665a",
   "metadata": {},
   "outputs": [
    {
     "data": {
      "text/plain": [
       "'I have eaten 99 burritos.'"
      ]
     },
     "execution_count": 10,
     "metadata": {},
     "output_type": "execute_result"
    }
   ],
   "source": [
    "'I have eaten ' + str(99) + ' burritos.'"
   ]
  }
 ],
 "metadata": {
  "kernelspec": {
   "display_name": "Python 3 (ipykernel)",
   "language": "python",
   "name": "python3"
  },
  "language_info": {
   "codemirror_mode": {
    "name": "ipython",
    "version": 3
   },
   "file_extension": ".py",
   "mimetype": "text/x-python",
   "name": "python",
   "nbconvert_exporter": "python",
   "pygments_lexer": "ipython3",
   "version": "3.10.11"
  },
  "toc": {
   "base_numbering": 1,
   "nav_menu": {},
   "number_sections": true,
   "sideBar": true,
   "skip_h1_title": false,
   "title_cell": "Table of Contents",
   "title_sidebar": "Contents",
   "toc_cell": false,
   "toc_position": {},
   "toc_section_display": true,
   "toc_window_display": false
  }
 },
 "nbformat": 4,
 "nbformat_minor": 5
}
