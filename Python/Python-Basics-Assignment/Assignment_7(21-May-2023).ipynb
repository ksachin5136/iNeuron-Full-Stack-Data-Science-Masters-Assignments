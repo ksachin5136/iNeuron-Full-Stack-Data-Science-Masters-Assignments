{
 "cells": [
  {
   "cell_type": "markdown",
   "id": "1b54d92c",
   "metadata": {},
   "source": [
    "__Q.1. Create two int type variables, apply addition, subtraction, division and multiplications\n",
    "and store the results in variables. Then print the data in the following format by calling the\n",
    "variables:__\n",
    "\n",
    "    First variable is __ & second variable is __.\n",
    "    Addition: __ + __ = __\n",
    "    Subtraction: __ - __ = __\n",
    "    Multiplication: __ * __ = __\n",
    "    Division: __ / __ = __\n",
    "\n",
    "Ans_1:"
   ]
  },
  {
   "cell_type": "code",
   "execution_count": 1,
   "id": "78ff64c5",
   "metadata": {},
   "outputs": [
    {
     "name": "stdout",
     "output_type": "stream",
     "text": [
      "First variable is 10 & second variable is 2.\n",
      "Addition: 10 + 2 = 12\n",
      "Subtraction: 10 - 2 = 8\n",
      "Multiplication: 10 * 2 = 20\n",
      "Division: 10 / 2 = 5.0\n"
     ]
    }
   ],
   "source": [
    "num1 = 10\n",
    "num2 = 2\n",
    "\n",
    "addRes = num1 + num2\n",
    "subRes = num1 - num2\n",
    "MulRes = num1 * num2\n",
    "DivRes = num1 / num2\n",
    "\n",
    "print(f\"First variable is {num1} & second variable is {num2}.\")\n",
    "print(f\"Addition: {num1} + {num2} = {addRes}\")\n",
    "print(f\"Subtraction: {num1} - {num2} = {subRes}\")\n",
    "print(f\"Multiplication: {num1} * {num2} = {MulRes}\")\n",
    "print(f\"Division: {num1} / {num2} = {DivRes}\")"
   ]
  },
  {
   "cell_type": "markdown",
   "id": "465a0128",
   "metadata": {},
   "source": [
    "__Q.2. What is the difference between the following operators:__\n",
    "    \n",
    "    (i) ‘/’ & ‘//’\n",
    "    (ii) ‘**’ & ‘^’\n",
    "    \n",
    "Ans_2:"
   ]
  },
  {
   "cell_type": "markdown",
   "id": "e6c1ac72",
   "metadata": {},
   "source": [
    "    (i) '/' & '//'\n",
    "\n",
    "    '/' -- its Division Operator and when used it Return the Division of given Numeric values/variables.\n",
    "\n",
    "    '//'-- its Floor division Operator. it performs the Division and rounds the result down to the nearest whole number\n",
    "\n",
    "see below example;"
   ]
  },
  {
   "cell_type": "code",
   "execution_count": 2,
   "id": "966f0a20",
   "metadata": {},
   "outputs": [
    {
     "name": "stdout",
     "output_type": "stream",
     "text": [
      "x= 9\n",
      "y= 4\n",
      "x / y= 2.25\n"
     ]
    }
   ],
   "source": [
    "x = 9\n",
    "y = 4\n",
    "print(\"x=\", x)\n",
    "print(\"y=\", y)\n",
    "print(\"x / y=\", x / y)  # division"
   ]
  },
  {
   "cell_type": "code",
   "execution_count": 3,
   "id": "2573b541",
   "metadata": {},
   "outputs": [
    {
     "name": "stdout",
     "output_type": "stream",
     "text": [
      "x= 9\n",
      "y= 4\n",
      "x // y= 2\n"
     ]
    }
   ],
   "source": [
    "x = 9\n",
    "y = 4\n",
    "print(\"x=\", x)\n",
    "print(\"y=\", y)\n",
    "print(\"x // y=\", x // y)  # Floor division"
   ]
  },
  {
   "cell_type": "markdown",
   "id": "450b6552",
   "metadata": {},
   "source": [
    "    (ii) ‘**’ & ‘^’\n",
    "\n",
    "    '**' -- its Exponentiation Operator. if used for two numeric values/variables as x**y then it return the result which is x to the power y\n",
    "\n",
    "    '^'  -- its Bitwise xOR Operator. Performs Bitwise xOR on operands and assign value to given variable.\n",
    "\n",
    "    see below example;"
   ]
  },
  {
   "cell_type": "code",
   "execution_count": 38,
   "id": "5e9b6020",
   "metadata": {},
   "outputs": [
    {
     "name": "stdout",
     "output_type": "stream",
     "text": [
      "x= 9\n",
      "y= 4\n",
      "x**y= 6561\n"
     ]
    }
   ],
   "source": [
    "x = 9\n",
    "y = 4\n",
    "print(\"x=\", x)\n",
    "print(\"y=\", y)\n",
    "print(\"x**y=\", x**y)  # Exponentiation same as 9*9*9*9"
   ]
  },
  {
   "cell_type": "code",
   "execution_count": 39,
   "id": "73d8c2b0",
   "metadata": {},
   "outputs": [
    {
     "name": "stdout",
     "output_type": "stream",
     "text": [
      "x= 9\n",
      "y= 4\n",
      "x ^ y= 13\n"
     ]
    }
   ],
   "source": [
    "# Bitwise xOR ^=  Performs Bitwise xOR on operands and assign value to left operand\ta^=b  ie. a=a^b\n",
    "\n",
    "# x ^ y # Does a \"bitwise exclusive or\".\n",
    "# if nth bit in y is 0  --> output nth bit position = same as the corresponding nth bit in x\n",
    "# if nth bit in y is 1  --> output nth bit position = complement of corresponding nth bit in x\n",
    "x = 9\n",
    "y = 4\n",
    "print(\"x=\", x)\n",
    "print(\"y=\", y)\n",
    "print(\"x ^ y=\", x ^ y)  # 1001 ^ 0100  = 1101 (in deciaml its 13 )"
   ]
  },
  {
   "cell_type": "markdown",
   "id": "2eb1627b",
   "metadata": {},
   "source": [
    "__Q.3. List the logical operators.__\n",
    "\n",
    "Ans_3:\n",
    "\n",
    "Logical operators are used to combine conditional statements:\n",
    "\n",
    "    Operator   Description \n",
    "    and \t   Returns True if both statements are true\t \n",
    "    or         Returns True if one of the statements is true \n",
    "    not        Reverse the result, returns False if the result is true \n",
    "    \n",
    "Example;"
   ]
  },
  {
   "cell_type": "code",
   "execution_count": 40,
   "id": "f3212181",
   "metadata": {},
   "outputs": [
    {
     "name": "stdout",
     "output_type": "stream",
     "text": [
      "True\n"
     ]
    }
   ],
   "source": [
    "x = 5\n",
    "\n",
    "print(x > 3 and x < 10)\n",
    "\n",
    "# returns True because 5 is greater than 3 AND 5 is less than 10"
   ]
  },
  {
   "cell_type": "code",
   "execution_count": 41,
   "id": "06582c26",
   "metadata": {},
   "outputs": [
    {
     "name": "stdout",
     "output_type": "stream",
     "text": [
      "True\n"
     ]
    }
   ],
   "source": [
    "x = 5\n",
    "\n",
    "print(x > 3 or x < 4)\n",
    "\n",
    "# returns True because one of the conditions are true (5 is greater than 3, but 5 is not less than 4)\n"
   ]
  },
  {
   "cell_type": "code",
   "execution_count": 42,
   "id": "6af459a2",
   "metadata": {},
   "outputs": [
    {
     "name": "stdout",
     "output_type": "stream",
     "text": [
      "False\n"
     ]
    }
   ],
   "source": [
    "x = 5\n",
    "\n",
    "print(not (x > 3 and x < 10))\n",
    "\n",
    "# returns False because not is used to reverse the result"
   ]
  },
  {
   "cell_type": "markdown",
   "id": "bbad4f40",
   "metadata": {},
   "source": [
    "__Q.4. Explain right shift operator and left shift operator with examples.__\n",
    "\n",
    "Ans:4:\n",
    "\n",
    "Bitwise right shift operator `>>` Performs Bitwise right shift on operands and assign value to left operand or given variable  i.e. a = a >> b\n",
    "\n",
    "Example;\n",
    "\n",
    "Below The binary value of 48 is \"110000\", after executing Right shift statement. its been shifted 2 places right keeping length same and returns the binary value \"001100\" which is 12 in decimal."
   ]
  },
  {
   "cell_type": "code",
   "execution_count": 43,
   "id": "f675cd86",
   "metadata": {},
   "outputs": [
    {
     "data": {
      "text/plain": [
       "12"
      ]
     },
     "execution_count": 43,
     "metadata": {},
     "output_type": "execute_result"
    }
   ],
   "source": [
    "x = 48\n",
    "x = x >> 2\n",
    "x"
   ]
  },
  {
   "cell_type": "markdown",
   "id": "e2ce21cf",
   "metadata": {},
   "source": [
    "Bitwise left shift `<<` Performs Bitwise left shift on operands and assign value to left operand or given variable a <<= b  i.e.  a = a << b\n",
    "\n",
    "Example:\n",
    "\n",
    "Below The binary value of 12 is \"001100\" after executing Left shift statement\n",
    "its been shifted 2 places left keeping length same and returns the binary value \"110000\" which is 48 in decimal."
   ]
  },
  {
   "cell_type": "code",
   "execution_count": 44,
   "id": "f496e02c",
   "metadata": {},
   "outputs": [
    {
     "data": {
      "text/plain": [
       "48"
      ]
     },
     "execution_count": 44,
     "metadata": {},
     "output_type": "execute_result"
    }
   ],
   "source": [
    "x = 12\n",
    "x = x << 2\n",
    "x"
   ]
  },
  {
   "cell_type": "markdown",
   "id": "9c4fd9bc",
   "metadata": {},
   "source": [
    "__Q.5. Create a list containing int type data of length 15. Then write a code to check if 10 is\n",
    "present in the list or not__\n",
    "\n",
    "Ans_5:"
   ]
  },
  {
   "cell_type": "code",
   "execution_count": 4,
   "id": "d9e63973",
   "metadata": {},
   "outputs": [
    {
     "name": "stdout",
     "output_type": "stream",
     "text": [
      "[1, 2, 3, 4, 5, 6, 7, 8, 9, 10, 11, 12, 13, 14, 15]\n",
      "10 is present in list1\n"
     ]
    }
   ],
   "source": [
    "# Creating a list containing int type data of length 15\n",
    "list1 = [i for i in range(1, 15 + 1)]\n",
    "print(list1)\n",
    "\n",
    "# check if 10 is present in the list or not\n",
    "num = 10\n",
    "if num in list1:\n",
    "    print(f\"{num} is present in list1\")\n",
    "else:\n",
    "    print(f\"{num} is NOT present in list1 \")"
   ]
  }
 ],
 "metadata": {
  "kernelspec": {
   "display_name": "Python 3 (ipykernel)",
   "language": "python",
   "name": "python3"
  },
  "language_info": {
   "codemirror_mode": {
    "name": "ipython",
    "version": 3
   },
   "file_extension": ".py",
   "mimetype": "text/x-python",
   "name": "python",
   "nbconvert_exporter": "python",
   "pygments_lexer": "ipython3",
   "version": "3.10.11"
  },
  "toc": {
   "base_numbering": 1,
   "nav_menu": {},
   "number_sections": true,
   "sideBar": true,
   "skip_h1_title": false,
   "title_cell": "Table of Contents",
   "title_sidebar": "Contents",
   "toc_cell": false,
   "toc_position": {},
   "toc_section_display": true,
   "toc_window_display": false
  }
 },
 "nbformat": 4,
 "nbformat_minor": 5
}
