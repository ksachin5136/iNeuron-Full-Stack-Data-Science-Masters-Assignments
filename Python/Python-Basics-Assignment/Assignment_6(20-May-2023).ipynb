{
 "cells": [
  {
   "cell_type": "markdown",
   "id": "cde5467a",
   "metadata": {},
   "source": [
    "__Q.1. What are keywords in python? Using the keyword library, print all the python keywords.__\n",
    "\n",
    "Ans_1:"
   ]
  },
  {
   "cell_type": "code",
   "execution_count": 1,
   "id": "6dfe42bc",
   "metadata": {},
   "outputs": [
    {
     "name": "stdout",
     "output_type": "stream",
     "text": [
      "['False', 'None', 'True', 'and', 'as', 'assert', 'async', 'await', 'break', 'class', 'continue', 'def', 'del', 'elif', 'else', 'except', 'finally', 'for', 'from', 'global', 'if', 'import', 'in', 'is', 'lambda', 'nonlocal', 'not', 'or', 'pass', 'raise', 'return', 'try', 'while', 'with', 'yield']\n"
     ]
    }
   ],
   "source": [
    "# load package\n",
    "import keyword\n",
    "\n",
    "# display all keywords\n",
    "print(keyword.kwlist)"
   ]
  },
  {
   "cell_type": "markdown",
   "id": "f94eb04e",
   "metadata": {},
   "source": [
    "__Q.2. What are the rules to create variables in python?__\n",
    "\n",
    "Ans_2: Below are the Rules needs to be followed while creating variables in Python; \n",
    "\n",
    "1. variables can be a combination of letters in lowercase (a to z) or uppercase (A to Z) or digits (0 to 9) or an underscore (_).\n",
    "\n",
    "2. Variables must start with a letter or the underscore character, but not with a digit.\n",
    "\n",
    "3. Variables in Python are case-sensitive. For example, myVariable and myvariable are two different variables in Python.\n",
    "\n",
    "4. Variables cannot have special characters such as !, @, #, $, %, etc.\n",
    "\n",
    "5. Python keywords cannot be used as variables. Words like for, while, break, continue, in, elif, else, import"
   ]
  },
  {
   "cell_type": "markdown",
   "id": "26515ba0",
   "metadata": {},
   "source": [
    "__Q.3. What are the standards and conventions followed for the nomenclature of variables in\n",
    "python to improve code readability and maintainability?__\n",
    "\n",
    "Ans_3: Following  standards and conventions followed for the nomenclature of variables in\n",
    "python to improve code readability and maintainability;\n",
    "\n",
    "1. __Unlimited Length:__ Python does not put any restriction on the length of the identifier. However, it's recommended to keep it within a reasonable size, to maintain readability and simplicity in the code.\n",
    "\n",
    "2. __Private Identifiers:__ In Python, if the identifier starts with a single underscore, it indicates that it is a non-public part of the class, module, or function. This is just a convention and Python doesn't enforce it. If it starts with two underscores, it's a strongly private identifier. If the identifier also ends with two trailing underscores, the identifier is a language-defined special name.\n",
    "\n",
    "3. __use Camel Case, Pascal Case or Snake Case to Define the Varibels which gives more readability__\n",
    "\n",
    "        Camel Case -  Each word except the first, starts with a capital letter, ex.  myVariableName \n",
    "        Pascal Case - Each word starts with a capital letter. ex. MyVariableName\n",
    "        Snake Case -  Each word is separated by an underscore character. ex. my_variable_name"
   ]
  },
  {
   "cell_type": "markdown",
   "id": "9c347a14",
   "metadata": {},
   "source": [
    "__Q.4. What will happen if a keyword is used as a variable name?__\n",
    "\n",
    "Ans_4: if a keyword is used as a variable name, it will be `SyntaxError:`\n",
    "\n",
    "Example ;"
   ]
  },
  {
   "cell_type": "code",
   "execution_count": 2,
   "id": "078dc8b3",
   "metadata": {},
   "outputs": [
    {
     "ename": "SyntaxError",
     "evalue": "cannot assign to None (3366989415.py, line 1)",
     "output_type": "error",
     "traceback": [
      "\u001b[1;36m  Cell \u001b[1;32mIn[2], line 1\u001b[1;36m\u001b[0m\n\u001b[1;33m    None = 10\u001b[0m\n\u001b[1;37m    ^\u001b[0m\n\u001b[1;31mSyntaxError\u001b[0m\u001b[1;31m:\u001b[0m cannot assign to None\n"
     ]
    }
   ],
   "source": [
    "None = 10"
   ]
  },
  {
   "cell_type": "markdown",
   "id": "57c051d9",
   "metadata": {},
   "source": [
    "__Q.5. For what purpose def keyword is used?__\n",
    "\n",
    "Ans_5:  `def` keyword is used in python to create/define a Function/Method."
   ]
  },
  {
   "cell_type": "markdown",
   "id": "f41dad81",
   "metadata": {},
   "source": [
    "__Q.6. What is the operation of this special character ‘\\’?__"
   ]
  },
  {
   "cell_type": "markdown",
   "id": "d264cf7e",
   "metadata": {},
   "source": [
    "Ans_6: \n",
    "\n",
    "In python `\\` is used to Define the Escape Characters. it allow us to insert characters that are illegal in a string.\n",
    "\n",
    "An escape character is a backslash `\\` followed by the character you want to insert.\n",
    "\n",
    "Example :  \n",
    "\n",
    "You will get an error if you use double quotes inside a string that is surrounded by double quotes:\n"
   ]
  },
  {
   "cell_type": "code",
   "execution_count": 68,
   "id": "35001014",
   "metadata": {},
   "outputs": [
    {
     "ename": "SyntaxError",
     "evalue": "invalid syntax (3484391987.py, line 1)",
     "output_type": "error",
     "traceback": [
      "\u001b[1;36m  Cell \u001b[1;32mIn[68], line 1\u001b[1;36m\u001b[0m\n\u001b[1;33m    txt = \"this is a string where i want to use \"double quotes\" inside string\"\u001b[0m\n\u001b[1;37m                                                 ^\u001b[0m\n\u001b[1;31mSyntaxError\u001b[0m\u001b[1;31m:\u001b[0m invalid syntax\n"
     ]
    }
   ],
   "source": [
    "txt = \"this is a string where i want to use \"double quotes\" inside string\"\n",
    "print(txt)"
   ]
  },
  {
   "cell_type": "markdown",
   "id": "18825b59",
   "metadata": {},
   "source": [
    "To fix this problem, use the escape character `\\\"`"
   ]
  },
  {
   "cell_type": "code",
   "execution_count": 70,
   "id": "396a1e12",
   "metadata": {},
   "outputs": [
    {
     "name": "stdout",
     "output_type": "stream",
     "text": [
      "this is a string where i want to use \"double quotes\" inside string\n"
     ]
    }
   ],
   "source": [
    "txt = \"this is a string where i want to use \\\"double quotes\\\" inside string\"\n",
    "print(txt)"
   ]
  },
  {
   "cell_type": "markdown",
   "id": "5f62ba84",
   "metadata": {},
   "source": [
    "__NOTE__\n",
    "\n",
    "__Actually here we are saying to python that ;  i know double quotes is illegal character inside the string but please Escape/Skip/forgive that chcecking for now__"
   ]
  },
  {
   "cell_type": "markdown",
   "id": "9aa298f0",
   "metadata": {},
   "source": [
    "__Q.7. Give an example of the following conditions:__\n",
    "\n",
    "    (i) Homogeneous list\n",
    "    (ii) Heterogeneous set\n",
    "    (iii) Homogeneous tuple"
   ]
  },
  {
   "cell_type": "markdown",
   "id": "618796c5",
   "metadata": {},
   "source": [
    "Ans_7 : "
   ]
  },
  {
   "cell_type": "code",
   "execution_count": 3,
   "id": "fe8c7c82",
   "metadata": {},
   "outputs": [
    {
     "name": "stdout",
     "output_type": "stream",
     "text": [
      "<class 'list'> [1, 2, 3, 4, 5]\n"
     ]
    }
   ],
   "source": [
    "# Homogeneous list\n",
    "list1 = [1, 2, 3, 4, 5]\n",
    "print(type(list1), list1)"
   ]
  },
  {
   "cell_type": "code",
   "execution_count": 4,
   "id": "9b0e1fac",
   "metadata": {},
   "outputs": [
    {
     "name": "stdout",
     "output_type": "stream",
     "text": [
      "<class 'tuple'> ('hi', 'Hello', 'How are you')\n"
     ]
    }
   ],
   "source": [
    "# Homogeneous tuple\n",
    "tuple1 = (\"hi\", \"Hello\", \"How are you\")\n",
    "print(type(tuple1), tuple1)"
   ]
  },
  {
   "cell_type": "code",
   "execution_count": 5,
   "id": "6e8f2c4c",
   "metadata": {},
   "outputs": [
    {
     "name": "stdout",
     "output_type": "stream",
     "text": [
      "<class 'set'> {True, 2.6, 'Hello', 'a'}\n"
     ]
    }
   ],
   "source": [
    "# Heterogeneous set\n",
    "\n",
    "set1 = {\"a\", \"Hello\", 2.6, True}\n",
    "print(type(set1), set1)"
   ]
  },
  {
   "cell_type": "markdown",
   "id": "fc7ccd4d",
   "metadata": {},
   "source": [
    "__Q.8. Explain the mutable and immutable data types with proper explanation & examples.__"
   ]
  },
  {
   "cell_type": "markdown",
   "id": "3f8d6f92",
   "metadata": {},
   "source": [
    "Ans_8:\n",
    "\n",
    "In Python, everything is an object. An object has its own internal state. Some objects allow you to change their internal state and others don’t.\n",
    "\n",
    "An object whose internal state can be changed is called a __mutable object__, \n",
    "\n",
    "while an object whose internal state cannot be changed is called an __immutable object__.\n",
    "\n",
    "\n",
    "The following are examples of immutable objects(data types):\n",
    "\n",
    "        •\tNumbers (int, float, bool)\n",
    "        •\tStrings\n",
    "        •\tTuples\n",
    "        •\tFrozen sets\n",
    "\n",
    "And the following are examples of mutable objects(Data Types):\n",
    "\n",
    "        •\tLists\n",
    "        •\tSets\n",
    "        •\tDictionaries\n",
    "\n",
    "User-defined classes can be mutable or immutable, depending on whether their internal state can be changed or not.\n",
    "\n",
    "Examples:"
   ]
  },
  {
   "cell_type": "code",
   "execution_count": 7,
   "id": "52e02131",
   "metadata": {},
   "outputs": [],
   "source": [
    "# The following defines a tuple whose elements are the two lists:\n",
    "low = [1, 2, 3]\n",
    "high = [4, 5]\n",
    "\n",
    "rankings = (low, high)"
   ]
  },
  {
   "cell_type": "code",
   "execution_count": 8,
   "id": "460c7875",
   "metadata": {},
   "outputs": [
    {
     "name": "stdout",
     "output_type": "stream",
     "text": [
      "<class 'tuple'> ([1, 2, 3], [4, 5])\n"
     ]
    }
   ],
   "source": [
    "print(type(rankings),rankings)"
   ]
  },
  {
   "cell_type": "code",
   "execution_count": 9,
   "id": "967afe4c",
   "metadata": {},
   "outputs": [
    {
     "name": "stdout",
     "output_type": "stream",
     "text": [
      "0x29b18f86180\n"
     ]
    }
   ],
   "source": [
    "print(hex(id(rankings))) # see the memory Location where Tuple is pointing"
   ]
  },
  {
   "cell_type": "code",
   "execution_count": 10,
   "id": "0f27c241",
   "metadata": {},
   "outputs": [
    {
     "ename": "TypeError",
     "evalue": "'tuple' object does not support item assignment",
     "output_type": "error",
     "traceback": [
      "\u001b[1;31m---------------------------------------------------------------------------\u001b[0m",
      "\u001b[1;31mTypeError\u001b[0m                                 Traceback (most recent call last)",
      "Cell \u001b[1;32mIn[10], line 4\u001b[0m\n\u001b[0;32m      1\u001b[0m \u001b[38;5;66;03m# here we are trying to add another element as list  in tuple \u001b[39;00m\n\u001b[0;32m      2\u001b[0m \u001b[38;5;66;03m# This will raise an error as Tuples are immutable and we can not add elements in it\u001b[39;00m\n\u001b[1;32m----> 4\u001b[0m \u001b[43mrankings\u001b[49m\u001b[43m[\u001b[49m\u001b[38;5;241;43m3\u001b[39;49m\u001b[43m]\u001b[49m \u001b[38;5;241m=\u001b[39m [\u001b[38;5;241m6\u001b[39m, \u001b[38;5;241m7\u001b[39m]\n",
      "\u001b[1;31mTypeError\u001b[0m: 'tuple' object does not support item assignment"
     ]
    }
   ],
   "source": [
    "# here we are trying to add another element as list  in tuple \n",
    "# This will raise an error as Tuples are immutable and we can not add elements in it\n",
    "\n",
    "rankings[3] = [6, 7]"
   ]
  },
  {
   "cell_type": "code",
   "execution_count": 11,
   "id": "0e1293b1",
   "metadata": {},
   "outputs": [
    {
     "ename": "TypeError",
     "evalue": "'tuple' object does not support item assignment",
     "output_type": "error",
     "traceback": [
      "\u001b[1;31m---------------------------------------------------------------------------\u001b[0m",
      "\u001b[1;31mTypeError\u001b[0m                                 Traceback (most recent call last)",
      "Cell \u001b[1;32mIn[11], line 4\u001b[0m\n\u001b[0;32m      1\u001b[0m \u001b[38;5;66;03m# here we are trying to update element of tuple\u001b[39;00m\n\u001b[0;32m      2\u001b[0m \u001b[38;5;66;03m# This will raise an error as Tuples are  immutable and we can not Updates elements in it\u001b[39;00m\n\u001b[1;32m----> 4\u001b[0m \u001b[43mrankings\u001b[49m\u001b[43m[\u001b[49m\u001b[38;5;241;43m1\u001b[39;49m\u001b[43m]\u001b[49m \u001b[38;5;241m=\u001b[39m \u001b[38;5;124m\"\u001b[39m\u001b[38;5;124mupdaedOne\u001b[39m\u001b[38;5;124m\"\u001b[39m\n",
      "\u001b[1;31mTypeError\u001b[0m: 'tuple' object does not support item assignment"
     ]
    }
   ],
   "source": [
    "# here we are trying to update element of tuple\n",
    "# This will raise an error as Tuples are  immutable and we can not Updates elements in it\n",
    "\n",
    "rankings[1] = \"updaedOne\""
   ]
  },
  {
   "cell_type": "code",
   "execution_count": 12,
   "id": "f7ebc349",
   "metadata": {},
   "outputs": [
    {
     "name": "stdout",
     "output_type": "stream",
     "text": [
      "<class 'list'> [4, 5]\n",
      "0x29b19058c80\n"
     ]
    }
   ],
   "source": [
    "# But List is mutable object/data type see here;\n",
    "print(type(high), high)\n",
    "print(hex(id(high)))"
   ]
  },
  {
   "cell_type": "code",
   "execution_count": 13,
   "id": "798afb09",
   "metadata": {},
   "outputs": [
    {
     "name": "stdout",
     "output_type": "stream",
     "text": [
      "<class 'list'> [1, 2, 3]\n",
      "0x29b1916e480\n"
     ]
    }
   ],
   "source": [
    "print(type(low), low)\n",
    "print(hex(id(low)))"
   ]
  },
  {
   "cell_type": "markdown",
   "id": "1c1e7b62",
   "metadata": {},
   "source": [
    "Now, lets add one elements in List high"
   ]
  },
  {
   "cell_type": "code",
   "execution_count": 14,
   "id": "c1c0162d",
   "metadata": {},
   "outputs": [
    {
     "name": "stdout",
     "output_type": "stream",
     "text": [
      "([1, 2, 3], [4, 5, 6])\n"
     ]
    }
   ],
   "source": [
    "high.append(6)\n",
    "print(rankings)"
   ]
  },
  {
   "cell_type": "code",
   "execution_count": 15,
   "id": "9d36a063",
   "metadata": {},
   "outputs": [
    {
     "name": "stdout",
     "output_type": "stream",
     "text": [
      "<class 'list'> [4, 5, 6]\n",
      "0x29b19058c80\n"
     ]
    }
   ],
   "source": [
    "# Now again check the memory locaiton of list high\n",
    "print(type(high), high)\n",
    "print(hex(id(high)))"
   ]
  },
  {
   "cell_type": "markdown",
   "id": "81a644a8",
   "metadata": {},
   "source": [
    "See here the ingternal state of list high is changed Earlier it has values as [4, 5] but now its [4, 5,6] and Memory Address is same in both the case, which proofs that list are mutable Data Types\n",
    "\n",
    "But if try to reassign valuses to tuple rankings that will be done and it will get another memory address;\n",
    "\n"
   ]
  },
  {
   "cell_type": "code",
   "execution_count": 16,
   "id": "84b6d5db",
   "metadata": {},
   "outputs": [
    {
     "name": "stdout",
     "output_type": "stream",
     "text": [
      "0x29b18f86180\n"
     ]
    }
   ],
   "source": [
    "# see here the memory adress is sitll same as intially we checked\n",
    "print(hex(id(rankings)))"
   ]
  },
  {
   "cell_type": "markdown",
   "id": "ebadc83f",
   "metadata": {},
   "source": [
    "Now lets reassign some other values to ranking Tuple"
   ]
  },
  {
   "cell_type": "code",
   "execution_count": 17,
   "id": "db9ce54a",
   "metadata": {},
   "outputs": [],
   "source": [
    "rankings = ([1, 2, 3], [8, 9])"
   ]
  },
  {
   "cell_type": "code",
   "execution_count": 18,
   "id": "8486eb42",
   "metadata": {},
   "outputs": [
    {
     "name": "stdout",
     "output_type": "stream",
     "text": [
      "0x29b1a71a3c0\n"
     ]
    }
   ],
   "source": [
    "print(hex(id(rankings)))"
   ]
  },
  {
   "cell_type": "markdown",
   "id": "13cd5605",
   "metadata": {},
   "source": [
    "see here rankings tuple now pointing to new memory address so its proofs that Tuples are immutable data types"
   ]
  },
  {
   "cell_type": "markdown",
   "id": "fd08542b",
   "metadata": {},
   "source": [
    "__Q.9. Write a code to create the given structure using only for loop.__\n",
    "\n",
    "         *\n",
    "        ***\n",
    "       *****\n",
    "      *******  \n",
    "     *********\n",
    "Ans_9:"
   ]
  },
  {
   "cell_type": "code",
   "execution_count": 19,
   "id": "53f3f398",
   "metadata": {},
   "outputs": [
    {
     "name": "stdout",
     "output_type": "stream",
     "text": [
      "    *    \n",
      "   ***   \n",
      "  *****  \n",
      " ******* \n",
      "*********\n"
     ]
    }
   ],
   "source": [
    "n = 9  # number indicate what is the max number of '*' i want to print.\n",
    "for i in range(1, n + 1, 2):  # starting from 1 , ending at n+1 (i.e. n+1-1)\n",
    "    # using f-String approach to get the required data(i * '*') in Center (i.e. ^) while keeping length of each row is n\n",
    "    print(f\"{i*'*':^{n}}\")"
   ]
  },
  {
   "cell_type": "markdown",
   "id": "34430992",
   "metadata": {},
   "source": [
    "__Q.10. Write a code to create the given structure using while loop.__\n",
    "\n",
    "       |||||||||\n",
    "        |||||||\n",
    "         |||||\n",
    "          |||\n",
    "           |\n",
    "           \n",
    "Ans_10:"
   ]
  },
  {
   "cell_type": "code",
   "execution_count": 20,
   "id": "dd153152",
   "metadata": {
    "scrolled": false
   },
   "outputs": [
    {
     "name": "stdout",
     "output_type": "stream",
     "text": [
      "|||||||||\n",
      " ||||||| \n",
      "  |||||  \n",
      "   |||   \n",
      "    |    \n"
     ]
    }
   ],
   "source": [
    "n = 9  # number indicate what is the max number of '|' i want to print.\n",
    "i = n  # Assigning number to a variable i  to make it ready for while loop\n",
    "while i > 0:\n",
    "    # using f-String approach to get the required data(i * '|') in Center (i.e. ^) while keeping length of each row is n\n",
    "    print(f\"{i * '|':^{n}}\")\n",
    "    i -= 2"
   ]
  }
 ],
 "metadata": {
  "kernelspec": {
   "display_name": "Python 3 (ipykernel)",
   "language": "python",
   "name": "python3"
  },
  "language_info": {
   "codemirror_mode": {
    "name": "ipython",
    "version": 3
   },
   "file_extension": ".py",
   "mimetype": "text/x-python",
   "name": "python",
   "nbconvert_exporter": "python",
   "pygments_lexer": "ipython3",
   "version": "3.10.11"
  },
  "toc": {
   "base_numbering": 1,
   "nav_menu": {},
   "number_sections": true,
   "sideBar": true,
   "skip_h1_title": false,
   "title_cell": "Table of Contents",
   "title_sidebar": "Contents",
   "toc_cell": false,
   "toc_position": {},
   "toc_section_display": true,
   "toc_window_display": false
  }
 },
 "nbformat": 4,
 "nbformat_minor": 5
}
