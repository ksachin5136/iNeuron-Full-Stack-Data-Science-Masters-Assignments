{
 "cells": [
  {
   "cell_type": "markdown",
   "id": "ddcd5b66",
   "metadata": {},
   "source": [
    "__1. Why are functions advantageous to have in your programs?__\n",
    "\n",
    "Ans_1:\n",
    "\n",
    "The main advantage of functions is code Reusability. Functions help to create reusable code. so whenever same piece of code needs to executed multiple times, we can put that in a function and call them. we can pass some parameters to Function as well if needed. This makes programs shorter, easier to read, and easier to update."
   ]
  },
  {
   "cell_type": "markdown",
   "id": "885b1e84",
   "metadata": {},
   "source": [
    "__2. When does the code in a function run: when it's specified or when it's called?__\n",
    "\n",
    "Ans_2: The code in a function executes when the function is called, not when the function is specified."
   ]
  },
  {
   "cell_type": "markdown",
   "id": "b1f635bc",
   "metadata": {},
   "source": [
    "__3. What statement creates a function?__\n",
    "\n",
    "Ans_3: The `def` statement defines a function\n",
    "\n",
    "__Syntax of Function__\n",
    "\n",
    "    def functionname(parameters): \n",
    "         \"\"\"doc string\"\"\" \n",
    "         -----function body----- \n",
    "         -----function body----- \n",
    "         return returnValue"
   ]
  },
  {
   "cell_type": "markdown",
   "id": "d265fa34",
   "metadata": {},
   "source": [
    "__4. What is the difference between a function and a function call?__\n",
    "\n",
    "Ans_4: A function is the definition which contains the piece of code/procedure to achieve particular task.\n",
    "A Function call is the use/application of that function. when function get called then the procedure gets executed to  achieve that task.  \n"
   ]
  },
  {
   "cell_type": "markdown",
   "id": "1883765b",
   "metadata": {},
   "source": [
    "__5. How many global scopes are there in a Python program? How many local scopes?__\n",
    "\n",
    "Ans_5: There is one global scope, and one local scope is created whenever a function is called."
   ]
  },
  {
   "cell_type": "markdown",
   "id": "28ae20fd",
   "metadata": {},
   "source": [
    "__6. What happens to variables in a local scope when the function call returns?__\n",
    "\n",
    "Ans_6: When a function returns, the local scope is destroyed, and all the variables in it are forgotten."
   ]
  },
  {
   "cell_type": "markdown",
   "id": "e5f868e8",
   "metadata": {},
   "source": [
    "__7. What is the concept of a return value? Is it possible to have a return value in an expression?__\n",
    "\n",
    "Ans_7: A return value is the value that a function returns as result of execution of lines of code within it. Like any value, a return value can be used as part of an expression."
   ]
  },
  {
   "cell_type": "markdown",
   "id": "5b47589b",
   "metadata": {},
   "source": [
    "__8. If a function does not have a return statement, what is the return value of a call to that function?__\n",
    "\n",
    "Ans_8: If there is no return statement for a function, its return value is `None`."
   ]
  },
  {
   "cell_type": "markdown",
   "id": "0ad5de87",
   "metadata": {},
   "source": [
    "__9. How do you make a function variable refer to the global variable?__\n",
    "\n",
    "Ans_9: If you want to refer a function variable as a global variable in a function, then you can use the `global` keyword to declare variable as global variable."
   ]
  },
  {
   "cell_type": "markdown",
   "id": "52cb84ab",
   "metadata": {},
   "source": [
    "__10. What is the data type of None?__\n",
    "\n",
    "Ans_10: \n",
    "    The data type of None is `NoneType`.\n"
   ]
  },
  {
   "cell_type": "markdown",
   "id": "9799b66f",
   "metadata": {},
   "source": [
    "__11. What does the sentence import areallyourpetsnamederic do?__\n",
    "\n",
    "Ans_11: `import areallyourpetsnamederic` will imports a module named __areallyourpetsnamederic__."
   ]
  },
  {
   "cell_type": "markdown",
   "id": "ce098888",
   "metadata": {},
   "source": [
    "__12. If you had a bacon() feature in a spam module, what would you call it after importing spam?__\n",
    "\n",
    "Ans_12: This function can be called with `spam.bacon()`."
   ]
  },
  {
   "cell_type": "markdown",
   "id": "b91b212b",
   "metadata": {},
   "source": [
    "__13. What can you do to save a programme from crashing if it encounters an error?__\n",
    "\n",
    "Ans_13: Place the line of code that might cause an error in a `try` clause and use `except` block to handle the error.\n"
   ]
  },
  {
   "cell_type": "markdown",
   "id": "3b717635",
   "metadata": {},
   "source": [
    "__14. What is the purpose of the try clause? What is the purpose of the except clause?__\n",
    "\n",
    "Ans_14: in The `try` clasue you  put the code that could potentially cause an error and the `except` block you put the code that gets executed in case an error happens in execution of code written in `try` block "
   ]
  }
 ],
 "metadata": {
  "kernelspec": {
   "display_name": "Python 3 (ipykernel)",
   "language": "python",
   "name": "python3"
  },
  "language_info": {
   "codemirror_mode": {
    "name": "ipython",
    "version": 3
   },
   "file_extension": ".py",
   "mimetype": "text/x-python",
   "name": "python",
   "nbconvert_exporter": "python",
   "pygments_lexer": "ipython3",
   "version": "3.10.11"
  },
  "toc": {
   "base_numbering": 1,
   "nav_menu": {},
   "number_sections": true,
   "sideBar": true,
   "skip_h1_title": false,
   "title_cell": "Table of Contents",
   "title_sidebar": "Contents",
   "toc_cell": false,
   "toc_position": {},
   "toc_section_display": true,
   "toc_window_display": false
  }
 },
 "nbformat": 4,
 "nbformat_minor": 5
}
